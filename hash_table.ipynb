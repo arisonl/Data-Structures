{
 "cells": [
  {
   "cell_type": "markdown",
   "metadata": {},
   "source": [
    "## Sets and Dictionaries (aka Hash Tables)\n",
    "Sets and dictionaries are ideal data structures to be used when your data has no intrinsic order, but does have a unique object (the key) that can be used to reference it. Sets consist only of keys, while dictionaries of key-value pairs. Internally, a key is hashed and the hashed value is used as the index in the underlying hashtable. This way search and addition of elements can be considered to have complexity **`O(1)`** if a good collision resolution strategy is used. Sets, consisting of (and indexing) only keys are ideal for doing performing set operations like unions, intersections and differences and answering questions like \"how many unique elements are contained\".\n",
    "\n",
    "### Sets\n",
    "Syntax: `s={a, b, c}`\n",
    "-  `s.add(x)`: add element `x` to the set\n",
    "-  `s.discard(x)`: removes element `x` from set if exists (alternatively `s.remove(x)` throws error if `x` does not exist in `s`)\n",
    "-  `len(s)`: number of elements in set s (cardinality)\n",
    "-  `x in s`: test x for membership in s\n",
    "-  `x not in s`: test x for non-membership in s\n",
    "-  `s.issubset(t)`\tor `s <= t`:\ttest whether every element in s is in t\n",
    "-  `s.issuperset(t)` or\t`s >= t`:\ttest whether every element in t is in s\n",
    "-  `s.union(t)`\tor `s | t`:\tnew set with elements from both s and t\n",
    "-  `s.intersection(t)` or\t`s & t`:\tnew set with elements common to s and t\n",
    "-  `s.difference(t)` or `s - t`:\tnew set with elements in s but not in t\n",
    "\n",
    "### Dictionaries\n",
    "Syntax: `d={a:data1, b:data2, c:data3}`\n",
    "- `d.get(k)` or `d[k]`: get value associated with key k\n",
    "- `d.update({k:v})`: adds v if k is not in d or updates v if k already in d\n",
    "- `d.pop(k)`: remove item with key k and return it\n",
    "-  `d.len()`: return the length of the dictionary\n",
    "- `for k in d.keys()`: iterate over keys\n",
    "- `for value in d.values():` iterate over values\n",
    "-  `for key, value in d.iteritems():` iterate on both"
   ]
  },
  {
   "cell_type": "markdown",
   "metadata": {},
   "source": [
    "### Exercises\n",
    "#### Given two lists, A and B, of unique strings determine if A is a subset of B"
   ]
  },
  {
   "cell_type": "code",
   "execution_count": 1,
   "metadata": {},
   "outputs": [],
   "source": [
    "def check_subset(A, B):\n",
    "    s1=set(A)\n",
    "    s2=set(B)\n",
    "    if s1<=s2: return True\n",
    "    return False"
   ]
  },
  {
   "cell_type": "code",
   "execution_count": 2,
   "metadata": {},
   "outputs": [
    {
     "data": {
      "text/plain": [
       "True"
      ]
     },
     "execution_count": 2,
     "metadata": {},
     "output_type": "execute_result"
    }
   ],
   "source": [
    "l1=[\"Spain\",\"Greece\",\"Italy\",\"France\",\"Portugal\"]\n",
    "l2=[\"Italy\",\"Greece\"]\n",
    "check_subset(l2, l1)"
   ]
  },
  {
   "cell_type": "code",
   "execution_count": 3,
   "metadata": {},
   "outputs": [
    {
     "data": {
      "text/plain": [
       "['Italy', 'Greece', 'England']"
      ]
     },
     "execution_count": 3,
     "metadata": {},
     "output_type": "execute_result"
    }
   ],
   "source": [
    "l2.append(\"England\")\n",
    "l2"
   ]
  },
  {
   "cell_type": "code",
   "execution_count": 4,
   "metadata": {},
   "outputs": [
    {
     "data": {
      "text/plain": [
       "False"
      ]
     },
     "execution_count": 4,
     "metadata": {},
     "output_type": "execute_result"
    }
   ],
   "source": [
    "check_subset(l2, l1)"
   ]
  },
  {
   "cell_type": "markdown",
   "metadata": {},
   "source": [
    "A slightly more low-level implementation that does not use the built-in subset python facilities:"
   ]
  },
  {
   "cell_type": "code",
   "execution_count": 5,
   "metadata": {},
   "outputs": [],
   "source": [
    "def check_subset2(A, B):\n",
    "    s1=set(A)\n",
    "    s2=set(B)\n",
    "    counter=0\n",
    "    for i in s1:\n",
    "        if i in B: counter=counter+1\n",
    "    if counter==len(s1): return True\n",
    "    return False"
   ]
  },
  {
   "cell_type": "code",
   "execution_count": 6,
   "metadata": {},
   "outputs": [
    {
     "data": {
      "text/plain": [
       "False"
      ]
     },
     "execution_count": 6,
     "metadata": {},
     "output_type": "execute_result"
    }
   ],
   "source": [
    "check_subset2(l2, l1)"
   ]
  },
  {
   "cell_type": "code",
   "execution_count": 7,
   "metadata": {},
   "outputs": [],
   "source": [
    "l2.remove(\"England\")"
   ]
  },
  {
   "cell_type": "code",
   "execution_count": 8,
   "metadata": {},
   "outputs": [
    {
     "data": {
      "text/plain": [
       "True"
      ]
     },
     "execution_count": 8,
     "metadata": {},
     "output_type": "execute_result"
    }
   ],
   "source": [
    "check_subset2(l2, l1)"
   ]
  },
  {
   "cell_type": "markdown",
   "metadata": {},
   "source": [
    "#### Write code to remove duplicates from an unsorted linked list"
   ]
  },
  {
   "cell_type": "code",
   "execution_count": 9,
   "metadata": {},
   "outputs": [],
   "source": [
    "%run LinkedList.ipynb"
   ]
  },
  {
   "cell_type": "code",
   "execution_count": 10,
   "metadata": {},
   "outputs": [
    {
     "name": "stdout",
     "output_type": "stream",
     "text": [
      "0 1 6 2 3 4 5 6 7 2 size= 10\n"
     ]
    }
   ],
   "source": [
    "alist=MyLinkedList()\n",
    "for i in range(8):\n",
    "    alist.insert(i,i)\n",
    "alist.insert(2,8)\n",
    "alist.insert(6,2)\n",
    "alist.printList()"
   ]
  },
  {
   "cell_type": "code",
   "execution_count": 11,
   "metadata": {},
   "outputs": [
    {
     "name": "stdout",
     "output_type": "stream",
     "text": [
      "0 1 6 2 3 4 5 6 7 2 size= 10\n",
      "0 1 6 2 3 4 5 7 2 size= 9\n",
      "0 1 6 2 3 4 5 7 size= 8\n"
     ]
    }
   ],
   "source": [
    "alist.printList()\n",
    "s=set()\n",
    "l=alist.size\n",
    "node=alist.head \n",
    "i=0\n",
    "while (node!=None):\n",
    "    v=node.val\n",
    "    if v in s: \n",
    "        alist.delete(i)\n",
    "        alist.printList()\n",
    "    elif v not in s: \n",
    "        s.update([v])\n",
    "        i+=1 #only gets increased in the non-delete case, see comment below\n",
    "    node=node.next"
   ]
  },
  {
   "cell_type": "markdown",
   "metadata": {},
   "source": [
    "What is interesting to note above is that when trying to delete on the fly from a linked list while iterating on it, the iterator emulating `i` should not get increased if a delete has happened. For example if `i=3` at `[...,7,4,5,...]` and we delete 7, the list becomes `[...,4,5,...]` and 4 now is in position `i=3` in place of 7. So, in order to continue iterating without skipping for, i needs to remain `i=3`. If we overlook this, the iterator emulating index `i` gets out of sync with the actual underlying pointer level iteration on the list and will cause exceptions."
   ]
  },
  {
   "cell_type": "markdown",
   "metadata": {},
   "source": [
    "#### You are given a 2D array with 2 columns, one is the product id and the second is the number of items sold per day for a number of days. Return a summary 2D array of 2 columns with the total items sold over a period per each (unique) product id"
   ]
  },
  {
   "cell_type": "raw",
   "metadata": {},
   "source": [
    "pseudocode:\n",
    "1. Create a dictionary that will store the following key-values: {product-id:total-sales}\n",
    "2. Iterate over all rows of the array\n",
    "3. For each product-id check if it exists in the dictionary by its key\n",
    "        if it does: add the value from the array to the summary total value for this product-id in the dictionary\n",
    "        else if it does not: add the new {product-id:value} in the dictionary\n",
    "4. Turn the resulting dictionary back to an array"
   ]
  },
  {
   "cell_type": "code",
   "execution_count": 12,
   "metadata": {},
   "outputs": [
    {
     "data": {
      "text/plain": [
       "224"
      ]
     },
     "execution_count": 12,
     "metadata": {},
     "output_type": "execute_result"
    }
   ],
   "source": [
    "a=[[224,3],\n",
    "   [225,5],\n",
    "   [224,2],\n",
    "   [225,1],\n",
    "   [225,8],\n",
    "   [224,1],\n",
    "   [223,12],\n",
    "   [223,1],\n",
    "   [224,3]]\n",
    "len(a)\n",
    "a[0][0]"
   ]
  },
  {
   "cell_type": "code",
   "execution_count": 19,
   "metadata": {},
   "outputs": [
    {
     "name": "stdout",
     "output_type": "stream",
     "text": [
      "{224: 9, 225: 14, 223: 13}\n",
      "[[224, 9], [225, 14], [223, 13]]\n"
     ]
    }
   ],
   "source": [
    "d={}\n",
    "for i in range(len(a)):\n",
    "    if a[i][0] not in d: d.update({a[i][0]:a[i][1]})\n",
    "    else:\n",
    "        v=d.get(a[i][0])\n",
    "        v=v+a[i][1]\n",
    "        d.update({a[i][0]:v})\n",
    "print d\n",
    "alist=[]\n",
    "for key, value in d.iteritems():\n",
    "    temp = [key,value]\n",
    "    alist.append(temp)\n",
    "print alist"
   ]
  },
  {
   "cell_type": "markdown",
   "metadata": {},
   "source": [
    "#### Write code to detect if a string is permutation of a palindome"
   ]
  },
  {
   "cell_type": "code",
   "execution_count": 20,
   "metadata": {},
   "outputs": [],
   "source": [
    "def palperm(astring):\n",
    "    d={}\n",
    "    a=list(astring)\n",
    "    for i in range(len(a)):\n",
    "        k=a[i]\n",
    "        if k not in d: d.update({k:1})\n",
    "        else: \n",
    "            c=d.get(k)\n",
    "            d.update({k:c+1})\n",
    "    c=0\n",
    "    for k in d.keys(): \n",
    "        if d.get(k)%2==1: c+=1\n",
    "        if c>1: return False\n",
    "    return True"
   ]
  },
  {
   "cell_type": "code",
   "execution_count": 21,
   "metadata": {},
   "outputs": [
    {
     "data": {
      "text/plain": [
       "False"
      ]
     },
     "execution_count": 21,
     "metadata": {},
     "output_type": "execute_result"
    }
   ],
   "source": [
    "palperm(\"Hello\")"
   ]
  },
  {
   "cell_type": "code",
   "execution_count": 22,
   "metadata": {},
   "outputs": [
    {
     "data": {
      "text/plain": [
       "True"
      ]
     },
     "execution_count": 22,
     "metadata": {},
     "output_type": "execute_result"
    }
   ],
   "source": [
    "palperm(\"HhHhelleo\")"
   ]
  },
  {
   "cell_type": "markdown",
   "metadata": {},
   "source": [
    "#### Given an English word in the form of a string, find all valid anagrams"
   ]
  },
  {
   "cell_type": "code",
   "execution_count": null,
   "metadata": {},
   "outputs": [],
   "source": []
  }
 ],
 "metadata": {
  "kernelspec": {
   "display_name": "Python 2",
   "language": "python",
   "name": "python2"
  },
  "language_info": {
   "codemirror_mode": {
    "name": "ipython",
    "version": 2
   },
   "file_extension": ".py",
   "mimetype": "text/x-python",
   "name": "python",
   "nbconvert_exporter": "python",
   "pygments_lexer": "ipython2",
   "version": "2.7.15"
  }
 },
 "nbformat": 4,
 "nbformat_minor": 2
}
