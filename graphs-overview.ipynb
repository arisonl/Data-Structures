{
 "cells": [
  {
   "cell_type": "markdown",
   "metadata": {},
   "source": [
    "# Overview of Graphs"
   ]
  },
  {
   "cell_type": "markdown",
   "metadata": {},
   "source": [
    "### Types of graphs\n",
    "* **Directed** vs **Undirected**: For example a Facebook friendship is an undirected edge, while a Twitter follow is a dirrected edge\n",
    "* **Weighted** vs **Unweigted**: An edge weight quantifies a property of the relationship. For example in a maps app, the weight of a road might be the time needed to go through it. The difference becomes particularly important in finding the shortest path between two vertices. For unweighted graphs, the shortest path must have the fewest number of edges, and can be found using a breadth-first search. Shortest paths in weighted graphs require more sophisticated algorithms like _Dijkstra_ and _Bellmann-Ford_.\n",
    "* **Labeled** vs **Unlabeled**: In a labeled graph, each vertex is assigned a unique name or identifier to distinguish it from all other vertices.\n",
    "* **Cyclic** vs **Acyclic**\n",
    "* **Sparse** vs **Dense**\n"
   ]
  },
  {
   "cell_type": "markdown",
   "metadata": {},
   "source": [
    "### Depth First Search\n",
    "The aim of DFS is to traverse the graph in such a way that it tries to go far from the root: Start at the root (or another arbitrarily selected node) and explore each branch completely before moving on to the next branch. \n",
    "\n",
    "DFS is preferred if we want to visit every node in the graph. In fact, both will work, but depth-first search is simpler. \n",
    "\n",
    "**DFS can be implemented either _recursively_ or _iteratively_ with the use of a _stack_.**\n",
    "\n",
    "**Applications:**\n",
    "* Web crawlers that crawl the entire web.\n",
    "* Cycle detection in directed graphs: A directed graph has cycle if and only if we see a back edge during DFS. \n",
    "* Solve puzzles with only one solution, such as mazes."
   ]
  },
  {
   "cell_type": "markdown",
   "metadata": {},
   "source": [
    "### Breadth First Search\n",
    "The aim of BFS is to traverse the graph as close as possible to the root: Start at the root (or another arbitrarily selected node) and explore each neighbor before going on to any of their children. Think of this as searching level by level out from the root.\n",
    "\n",
    "BFS is preferred if we want to find the shortest path (or just any path) between two nodes. Imagine trying to explore friendships in a social network. Starting from a user, using DFS would lead us millions of users away. This is not relevant because graph locality is important in this case. For example  to users might be friends (or mutuals) and DFS would not notice before spanning the entire world across. In contrast BFS would stay close to root for as long as possible. We might iterate through many of its friends, but we wouldn't go to his more distant connections until absolutely necessary. \n",
    "\n",
    "**BFS is implemented _iteratively_ with the use of a _queue_.**\n",
    "\n",
    "**Applications:**\n",
    "* Shortest path in unweighted graphs (Dijkstra or Bellmann-Ford for weighted ones). \n",
    "* Minimum Spanning Tree.\n",
    "* Social networks: BFS can find people within a given distance from a person (e.g. until k level).\n",
    "* Web crawlers where we want to limit the depth of levels.\n",
    "* Peer to Peer Networks: BFS is used to find all neighbor nodes.\n",
    "* GPS Navigation: BFS is used to find all neighboring locations.\n",
    "* Broadcast Networks: A broadcasted packet follows BFS to reach all nodes.\n",
    "* Garbage Collection: BFS is preferred over DFS because of better locality of reference."
   ]
  },
  {
   "cell_type": "markdown",
   "metadata": {},
   "source": [
    "### Can use both\n",
    "* Cycle detection in undirected graphs.\n",
    "* Find Strongly Connected Components: A directed graph is called strongly connected if there is a path from each vertex in the graph to every other vertex."
   ]
  },
  {
   "cell_type": "markdown",
   "metadata": {},
   "source": [
    "### Data structures for Graphs\n",
    "\n",
    "We assume the graph G = (V,E) contains n vertices and m edges.\n",
    "* **Adjacency Matrix:** We can represent `G` using an `n×n` matrix `M`, where `element M[i,j]=1` if `(i,j)` is an edge of `G`, and 0 if it isn’t.\n",
    "* **Adjacency Lists:** We can more efficiently represent sparse graphs by using linked lists to store the neighbors adjacent to each vertex."
   ]
  },
  {
   "cell_type": "markdown",
   "metadata": {},
   "source": [
    "<img src=\"Graphics/graphds2.png\" width=\"60%\" align=\"left\">"
   ]
  },
  {
   "cell_type": "markdown",
   "metadata": {},
   "source": [
    "If the graph is directed, a one way edge is represented in the adj.list only in the linked list for which it exists and in the matrix with 0 one way and 1 for the other. If a graph is weighted, the "
   ]
  },
  {
   "cell_type": "markdown",
   "metadata": {},
   "source": [
    "<img src=\"Graphics/graphds3.png\" width=\"60%\" align=\"left\">"
   ]
  },
  {
   "cell_type": "markdown",
   "metadata": {},
   "source": [
    "Adjacency lists win for most problems, particularly for big, sparse graphs. Consider representing Manhattan in a maps app with a graph. Manhattan has 15 avelues crossing 200 streets. In our example, each crossing is represented as vertex, so there are 3,000 vertices. Representing this structure with an adjacency matrix would require 3,000^2=9,000,000 cells most of which would be empty. "
   ]
  },
  {
   "cell_type": "markdown",
   "metadata": {},
   "source": [
    "<img src=\"Graphics/graphds.png\" width=\"60%\" align=\"left\">"
   ]
  },
  {
   "cell_type": "markdown",
   "metadata": {},
   "source": [
    "The time complexity to traverse a graph by either BFS or DFS is **`O(n^2)`** if a matrix is used an **`O(n+m)`** if a list is used."
   ]
  },
  {
   "cell_type": "code",
   "execution_count": null,
   "metadata": {},
   "outputs": [],
   "source": []
  }
 ],
 "metadata": {
  "kernelspec": {
   "display_name": "Python 2",
   "language": "python",
   "name": "python2"
  },
  "language_info": {
   "codemirror_mode": {
    "name": "ipython",
    "version": 2
   },
   "file_extension": ".py",
   "mimetype": "text/x-python",
   "name": "python",
   "nbconvert_exporter": "python",
   "pygments_lexer": "ipython2",
   "version": "2.7.15"
  }
 },
 "nbformat": 4,
 "nbformat_minor": 2
}
