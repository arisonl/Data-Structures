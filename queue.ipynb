{
 "cells": [
  {
   "cell_type": "markdown",
   "metadata": {},
   "source": [
    "# Queues"
   ]
  },
  {
   "cell_type": "code",
   "execution_count": 15,
   "metadata": {},
   "outputs": [],
   "source": [
    "%run array_list.ipynb\n",
    "%run linked_list.ipynb"
   ]
  },
  {
   "cell_type": "code",
   "execution_count": 25,
   "metadata": {},
   "outputs": [],
   "source": [
    "class MyQueue:\n",
    "    def __init__(self):\n",
    "        self.mylist = MyLinkedList()\n",
    "    \n",
    "    def en_q(self, value):\n",
    "        self.mylist.append(value) #you will need append implemented with a pointer to achieve a O(1)\n",
    "        \n",
    "    def de_q(self):\n",
    "        a=self.mylist.delete(0)\n",
    "        return a\n",
    "    \n",
    "    def is_empty(self):\n",
    "        if self.mylist.size==0: return True\n",
    "        return False\n",
    "    \n",
    "    def clear(self):\n",
    "        self.mylist.clear()\n",
    "    \n",
    "    def print_q(self):\n",
    "        self.mylist.print_list()"
   ]
  },
  {
   "cell_type": "code",
   "execution_count": 17,
   "metadata": {},
   "outputs": [
    {
     "name": "stdout",
     "output_type": "stream",
     "text": [
      "0 1 2 3 4 5 6 7 8 9 size= 10\n",
      "0 1 2 3 4 5 6 7 8 9 size= 10\n"
     ]
    }
   ],
   "source": [
    "myq = MyQueue()\n",
    "myq2 = MyQueue()\n",
    "for i in range(10):\n",
    "    myq.en_q(i)\n",
    "    myq2.en_q(i)\n",
    "myq.print_q()\n",
    "myq2.print_q()"
   ]
  },
  {
   "cell_type": "code",
   "execution_count": 18,
   "metadata": {},
   "outputs": [
    {
     "name": "stdout",
     "output_type": "stream",
     "text": [
      "0\n",
      "1 2 3 4 5 6 7 8 9 size= 9\n"
     ]
    }
   ],
   "source": [
    "a=myq.de_q()\n",
    "print a\n",
    "myq.print_q()"
   ]
  },
  {
   "cell_type": "code",
   "execution_count": 19,
   "metadata": {},
   "outputs": [
    {
     "name": "stdout",
     "output_type": "stream",
     "text": [
      "1 2 3 4 5 6 7 8 9 0 size= 10\n"
     ]
    }
   ],
   "source": [
    "myq.en_q(0)\n",
    "myq.print_q()"
   ]
  },
  {
   "cell_type": "markdown",
   "metadata": {},
   "source": [
    "### Exercises\n",
    "#### Write a function that checks if two queues are identical"
   ]
  },
  {
   "cell_type": "code",
   "execution_count": 20,
   "metadata": {},
   "outputs": [],
   "source": [
    "def same_q(q1, q2):\n",
    "    if q1.mylist.size != q2.mylist.size: return False\n",
    "    s = q1.mylist.size\n",
    "    c=0\n",
    "    for i in range(s):\n",
    "        a=q1.de_q()\n",
    "        b=q2.de_q()\n",
    "        if (a==b): c=c+1\n",
    "    if (c!=s): return False\n",
    "    return True"
   ]
  },
  {
   "cell_type": "code",
   "execution_count": 21,
   "metadata": {},
   "outputs": [
    {
     "name": "stdout",
     "output_type": "stream",
     "text": [
      "0 1 2 3 4 5 6 7 8 9 size= 10\n",
      "0 1 2 3 4 5 6 7 8 9 size= 10\n"
     ]
    },
    {
     "data": {
      "text/plain": [
       "True"
      ]
     },
     "execution_count": 21,
     "metadata": {},
     "output_type": "execute_result"
    }
   ],
   "source": [
    "myq = MyQueue()\n",
    "myq2 = MyQueue()\n",
    "for i in range(10):\n",
    "    myq.en_q(i)\n",
    "    myq2.en_q(i)\n",
    "myq.print_q()\n",
    "myq2.print_q()\n",
    "same_q(myq, myq2)"
   ]
  },
  {
   "cell_type": "code",
   "execution_count": 22,
   "metadata": {},
   "outputs": [
    {
     "name": "stdout",
     "output_type": "stream",
     "text": [
      "0 1 2 3 4 5 6 7 8 9 size= 10\n",
      "1 2 3 4 5 6 7 8 9 10 size= 10\n"
     ]
    },
    {
     "data": {
      "text/plain": [
       "False"
      ]
     },
     "execution_count": 22,
     "metadata": {},
     "output_type": "execute_result"
    }
   ],
   "source": [
    "myq = MyQueue()\n",
    "myq2 = MyQueue()\n",
    "for i in range(10):\n",
    "    myq.en_q(i)\n",
    "    myq2.en_q(i+1)\n",
    "myq.print_q()\n",
    "myq2.print_q()\n",
    "same_q(myq, myq2)"
   ]
  },
  {
   "cell_type": "markdown",
   "metadata": {},
   "source": [
    "#### Write a function to remove the 13th element of a queue (keep all others in place)\n",
    "Observe that removing items from a queue and adding them back, creates the same queue. Do it, just do not re-enqueue the 13th item"
   ]
  },
  {
   "cell_type": "code",
   "execution_count": 23,
   "metadata": {},
   "outputs": [],
   "source": [
    "def remove(q, index):\n",
    "    s=q.mylist.size\n",
    "    for i in range(index):\n",
    "        a=q.de_q()\n",
    "        q.en_q(a)\n",
    "    q.de_q()\n",
    "    for i in range(index+1,s,+1):\n",
    "        a=q.de_q()\n",
    "        q.en_q(a)"
   ]
  },
  {
   "cell_type": "code",
   "execution_count": 24,
   "metadata": {},
   "outputs": [
    {
     "name": "stdout",
     "output_type": "stream",
     "text": [
      "0 1 2 3 4 5 6 7 8 9 10 11 12 13 14 15 16 17 18 19 size= 20\n",
      "0 1 2 3 4 5 6 7 8 9 10 11 12 14 15 16 17 18 19 size= 19\n"
     ]
    }
   ],
   "source": [
    "myq = MyQueue()\n",
    "for i in range(20):\n",
    "    myq.en_q(i)\n",
    "myq.print_q()\n",
    "remove(myq, 13)\n",
    "myq.print_q()"
   ]
  },
  {
   "cell_type": "code",
   "execution_count": null,
   "metadata": {},
   "outputs": [],
   "source": []
  }
 ],
 "metadata": {
  "kernelspec": {
   "display_name": "Python 2",
   "language": "python",
   "name": "python2"
  },
  "language_info": {
   "codemirror_mode": {
    "name": "ipython",
    "version": 2
   },
   "file_extension": ".py",
   "mimetype": "text/x-python",
   "name": "python",
   "nbconvert_exporter": "python",
   "pygments_lexer": "ipython2",
   "version": "2.7.15"
  }
 },
 "nbformat": 4,
 "nbformat_minor": 2
}
