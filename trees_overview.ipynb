{
 "cells": [
  {
   "cell_type": "markdown",
   "metadata": {},
   "source": [
    "# Overview of Trees"
   ]
  },
  {
   "cell_type": "markdown",
   "metadata": {},
   "source": [
    "### Types of trees:\n",
    "* **Binary Tree:** Each node has up to two children\n",
    "* **Binary Search Tree:** A binary tree where for **each** node **all** left children <= this node < **all** right children<br>\n",
    "<img src=\"Graphics/BST.png\" width=\"40%\" align=\"left\">"
   ]
  },
  {
   "cell_type": "markdown",
   "metadata": {},
   "source": [
    "This property translates to trees that are sorted in all the ways shown in the next picture:<br>\n",
    "<img src=\"Graphics/BST3.png\" width=\"40%\" align=\"left\">"
   ]
  },
  {
   "cell_type": "markdown",
   "metadata": {},
   "source": [
    "You can obtain a sorted serialisation of the tree by performing _in-order traversal_, i.e. visiting recursively the left child, then the given node itself, then its right child (see the BST module)."
   ]
  },
  {
   "cell_type": "markdown",
   "metadata": {},
   "source": [
    "The BST structure (and the fact that there is no completeness restriction) means nodes are added as leaves. For example 39 would be added as a right child of 38. "
   ]
  },
  {
   "cell_type": "markdown",
   "metadata": {},
   "source": [
    "BSTs support **O(logN)** search, insertion and deletion."
   ]
  },
  {
   "cell_type": "markdown",
   "metadata": {},
   "source": [
    "* **Complete Binary Tree:** A binary tree in which every level of the tree is completely filled, except maybe the last level. To the extent that the last level is filled, it is filled left to right.<br>\n",
    "<img src=\"Graphics/complete.png\" width=\"40%\" align=\"left\">"
   ]
  },
  {
   "cell_type": "markdown",
   "metadata": {},
   "source": [
    "* **Full Binary Tree:** A binary tree in which every node has either zero or two children. That is, no nodes have only one child.<br>\n",
    "<img src=\"Graphics/full.png\" width=\"40%\" align=\"left\">"
   ]
  },
  {
   "cell_type": "markdown",
   "metadata": {},
   "source": [
    "* **Perfect Binary Tree:** A binary tree which is both complete and full<br>\n",
    "<img src=\"Graphics/perfect.png\" width=\"20%\" align=\"left\">"
   ]
  },
  {
   "cell_type": "markdown",
   "metadata": {},
   "source": [
    "* **Max (or Min) Heaps:** A **complete** binary tree where each node is smaller (or larger) than its children. The root, therefore, is the maximum (or minimum) element in the tree.<br>\n",
    "<img src=\"Graphics/heap.png\" width=\"20%\" align=\"left\">"
   ]
  },
  {
   "cell_type": "markdown",
   "metadata": {},
   "source": [
    "A heap is less structured than a BST (and as a result not sorted \"as much\" (same level nodes are not sorted horizontally) because its purpose is not to optimise search. Rather to provide with fast access to the max (or min) element. Note that in contrast to the heap property, a BST can have larger values at lower levels (the right children ones). <br>\n",
    "<img src=\"Graphics/heap2.png\" width=\"35%\" align=\"left\">"
   ]
  },
  {
   "cell_type": "markdown",
   "metadata": {},
   "source": [
    "Heaps are used to implement priority queues: Items come in a queue but instead of implementing a FIFO policy, they come in with pre-set priorities. Then the task is to get from the queue the item of highest priority and remove it. Locating the max priority item is **O(1)** in a max heap: it is the root. To remove it though, more work is required: Both addition (_swimming_) and deletion (_sinking_) are **O(logN)**. "
   ]
  }
 ],
 "metadata": {
  "kernelspec": {
   "display_name": "Python 2",
   "language": "python",
   "name": "python2"
  },
  "language_info": {
   "codemirror_mode": {
    "name": "ipython",
    "version": 2
   },
   "file_extension": ".py",
   "mimetype": "text/x-python",
   "name": "python",
   "nbconvert_exporter": "python",
   "pygments_lexer": "ipython2",
   "version": "2.7.15"
  }
 },
 "nbformat": 4,
 "nbformat_minor": 2
}
