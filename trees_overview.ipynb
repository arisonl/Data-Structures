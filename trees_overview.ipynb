{
 "cells": [
  {
   "cell_type": "markdown",
   "metadata": {},
   "source": [
    "# Trees"
   ]
  },
  {
   "cell_type": "markdown",
   "metadata": {},
   "source": [
    "### Types of trees:\n",
    "* **Binary Tree:** Each node has up to two children\n",
    "* **Binary Search Tree:** A binary tree where for **each** node **all** left children <= this node < **all** right children<br>\n",
    "<img src=\"Graphics/BST.png\" width=40% align=\"left\">"
   ]
  },
  {
   "cell_type": "markdown",
   "metadata": {},
   "source": [
    "* **Complete Binary Tree:** A binary tree in which every level of the tree is fully filled, except maybe the last level. To the extent that the last level is filled, it is filled left to right.<br>\n",
    "<img src=\"Graphics/complete.png\" width=40% align=\"left\">"
   ]
  },
  {
   "cell_type": "markdown",
   "metadata": {},
   "source": [
    "* **Full Binary Tree:** A binary tree in which every node has either zero or two children. That is, no nodes have only one child.<br>\n",
    "<img src=\"Graphics/full.png\" width=40% align=\"left\">"
   ]
  },
  {
   "cell_type": "markdown",
   "metadata": {},
   "source": [
    "* **Perfect Binary Tree:** A binary tree which is both complete and full<br>\n",
    "<img src=\"Graphics/perfect.png\" width=20% align=\"left\">"
   ]
  },
  {
   "cell_type": "markdown",
   "metadata": {},
   "source": [
    "* **Min (or Max) Heaps:** A complete binary tree where each node is smaller (or larger) than its children. The root, therefore, is the minimum (or maximum) element in the tree.<br>\n",
    "<img src=\"Graphics/heap.png\" width=20% align=\"left\">"
   ]
  },
  {
   "cell_type": "code",
   "execution_count": null,
   "metadata": {},
   "outputs": [],
   "source": []
  }
 ],
 "metadata": {
  "kernelspec": {
   "display_name": "Python 2",
   "language": "python",
   "name": "python2"
  },
  "language_info": {
   "codemirror_mode": {
    "name": "ipython",
    "version": 2
   },
   "file_extension": ".py",
   "mimetype": "text/x-python",
   "name": "python",
   "nbconvert_exporter": "python",
   "pygments_lexer": "ipython2",
   "version": "2.7.15"
  }
 },
 "nbformat": 4,
 "nbformat_minor": 2
}
