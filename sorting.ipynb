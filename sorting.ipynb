{
 "cells": [
  {
   "cell_type": "markdown",
   "metadata": {},
   "source": [
    "# Sorting"
   ]
  },
  {
   "cell_type": "markdown",
   "metadata": {},
   "source": [
    "### Selection Sort"
   ]
  },
  {
   "cell_type": "code",
   "execution_count": 2,
   "metadata": {},
   "outputs": [],
   "source": [
    "def selection_sort(alist):\n",
    "    size = len(alist)\n",
    "    counter=0 # operations counter (optional, informative)\n",
    "    for i in range(size-1): # run through the list multiple times. i is your current item. Watch the limit, see notes\n",
    "        min_item=alist[i] # set the minimum item to be the first item of the iteration\n",
    "        for j in range(i+1, size, 1): # search the list for the minimum remaining item, beginning one item to the right of the external loop\n",
    "            counter+=1\n",
    "            if alist[j]<min_item: \n",
    "                min_item=alist[j] # mark thenew minimum\n",
    "                position=j # and its position\n",
    "        if alist[position]<alist[i]: # if the new minimum if smaller than the external loop's current item, swap them \n",
    "            alist[position], alist[i] = alist[i], alist[position]\n",
    "        print alist\n",
    "    return alist, counter"
   ]
  },
  {
   "cell_type": "markdown",
   "metadata": {},
   "source": [
    "#### Notes: \n",
    "For a list of 10 items, `i` will start from 0 and will go up to 8 (not 9). This is why the outer loop goes up to `size-1` (with `in range(size==10)`, Python would get you up to 9). When the outer loop `i=3`, the inner loop will check items `j=3` to `j=9`. The inner loop always remains to the right of `i`. For this, for a 10 items list, `i` needs to go up to 8, to avoid a comparison of item at 9 with itself (which may cause unwanted swaps)."
   ]
  },
  {
   "cell_type": "code",
   "execution_count": 3,
   "metadata": {},
   "outputs": [],
   "source": [
    "alist=[10,7,8,3,8,9,5,2,1]"
   ]
  },
  {
   "cell_type": "code",
   "execution_count": 4,
   "metadata": {},
   "outputs": [
    {
     "name": "stdout",
     "output_type": "stream",
     "text": [
      "[1, 7, 8, 3, 8, 9, 5, 2, 10]\n",
      "[1, 2, 8, 3, 8, 9, 5, 7, 10]\n",
      "[1, 2, 3, 8, 8, 9, 5, 7, 10]\n",
      "[1, 2, 3, 5, 8, 9, 8, 7, 10]\n",
      "[1, 2, 3, 5, 7, 9, 8, 8, 10]\n",
      "[1, 2, 3, 5, 7, 8, 9, 8, 10]\n",
      "[1, 2, 3, 5, 7, 8, 8, 9, 10]\n",
      "[1, 2, 3, 5, 7, 8, 8, 9, 10]\n",
      "[1, 2, 3, 5, 7, 8, 8, 9, 10] numper of ops: 36\n"
     ]
    }
   ],
   "source": [
    "sort, ops = selection_sort(alist)\n",
    "print sort, \"numper of ops:\", ops"
   ]
  },
  {
   "cell_type": "code",
   "execution_count": null,
   "metadata": {},
   "outputs": [],
   "source": []
  }
 ],
 "metadata": {
  "kernelspec": {
   "display_name": "Python 2",
   "language": "python",
   "name": "python2"
  },
  "language_info": {
   "codemirror_mode": {
    "name": "ipython",
    "version": 2
   },
   "file_extension": ".py",
   "mimetype": "text/x-python",
   "name": "python",
   "nbconvert_exporter": "python",
   "pygments_lexer": "ipython2",
   "version": "2.7.15"
  }
 },
 "nbformat": 4,
 "nbformat_minor": 2
}
