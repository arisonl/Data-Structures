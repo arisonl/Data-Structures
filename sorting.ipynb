{
 "cells": [
  {
   "cell_type": "markdown",
   "metadata": {},
   "source": [
    "# Basic Sorting"
   ]
  },
  {
   "cell_type": "markdown",
   "metadata": {},
   "source": [
    "### Selection Sort\n",
    "<img src=\"Graphics/selection.png\" width=\"50%\" align=\"left\">"
   ]
  },
  {
   "cell_type": "code",
   "execution_count": 197,
   "metadata": {},
   "outputs": [],
   "source": [
    "def selection_sort(alist):\n",
    "    size = len(alist)\n",
    "    count=0 # inner loop counter, only useful to assess performance\n",
    "    print alist\n",
    "    for i in range(size-1): # run through the list multiple times. \n",
    "                            # i is your current item. Watch the limit, see notes\n",
    "        min_item=alist[i] # set the minimum item to be the first item of the iteration\n",
    "        position=i # mark its position\n",
    "        for j in range(i+1, size, 1): # search the list for the minimum remaining item, \n",
    "                                      # beginning one item to the right of the external loop\n",
    "            count+=1\n",
    "            if alist[j]<min_item: \n",
    "                min_item=alist[j] # mark the new minimum\n",
    "                position=j # and its position\n",
    "        if alist[position]<alist[i]: # if the new minimum if smaller than the external loop's current item, swap them\n",
    "            alist[position], alist[i] = alist[i], alist[position]\n",
    "        print alist\n",
    "    return alist, count"
   ]
  },
  {
   "cell_type": "markdown",
   "metadata": {},
   "source": [
    "#### Notes: \n",
    "In the visualisation above, the four steps correspond to the outer loop indexed `i`. The arrows that locate the minimum item in each step, correspond to the inner loop, indexed `j`.\n",
    "\n",
    "For a list of 5 items, `i` will start from 0 and will go up to 3 (not 4). This is why the outer loop goes up to `size-1` (with `in range(size==5)`, Python would get you up to 4). When the outer loop `i=1`, the inner loop will check items `j=2` to `j=4`. The inner loop always remains to the right of `i`. For this, for a 5 items list, `i` needs to go up to 3, to avoid a comparison of item at 4 with itself (which may cause unwanted swaps)."
   ]
  },
  {
   "cell_type": "code",
   "execution_count": 198,
   "metadata": {},
   "outputs": [],
   "source": [
    "alist=[10,7,8,3,8,9,5,2,1]"
   ]
  },
  {
   "cell_type": "code",
   "execution_count": 199,
   "metadata": {},
   "outputs": [
    {
     "name": "stdout",
     "output_type": "stream",
     "text": [
      "[10, 7, 8, 3, 8, 9, 5, 2, 1]\n",
      "[1, 7, 8, 3, 8, 9, 5, 2, 10]\n",
      "[1, 2, 8, 3, 8, 9, 5, 7, 10]\n",
      "[1, 2, 3, 8, 8, 9, 5, 7, 10]\n",
      "[1, 2, 3, 5, 8, 9, 8, 7, 10]\n",
      "[1, 2, 3, 5, 7, 9, 8, 8, 10]\n",
      "[1, 2, 3, 5, 7, 8, 9, 8, 10]\n",
      "[1, 2, 3, 5, 7, 8, 8, 9, 10]\n",
      "[1, 2, 3, 5, 7, 8, 8, 9, 10]\n",
      "Sorted:\n",
      "([1, 2, 3, 5, 7, 8, 8, 9, 10], 36)\n"
     ]
    }
   ],
   "source": [
    "sort = selection_sort(alist)\n",
    "print \"Sorted:\"\n",
    "print sort"
   ]
  },
  {
   "cell_type": "markdown",
   "metadata": {},
   "source": [
    "### Insertion Sort\n",
    "\n",
    "<img src=\"Graphics/insertion.png\" width=\"30%\" align=\"left\">"
   ]
  },
  {
   "cell_type": "code",
   "execution_count": 200,
   "metadata": {},
   "outputs": [],
   "source": [
    "def insertion_sort(alist):\n",
    "    size = len(alist)\n",
    "    count=0\n",
    "    print alist\n",
    "    for i in range(0, size-1, +1):\n",
    "        position=i+1 # the position of the item to insert: one to the right of the sorted part of the list\n",
    "        item_to_insert = alist[position]\n",
    "        j = position # j will iterate in reverse (see why in the notes) on the sorted part, \n",
    "                     # in order to locate the right position\n",
    "        while alist[j-1]>item_to_insert and j>0:\n",
    "            count+=1\n",
    "            j-=1\n",
    "        # pop the item to be inserted (pop() gets it and removes it from the list)\n",
    "        # and insert it in the place that j found\n",
    "        if item_to_insert<alist[j]: alist.insert(j, alist.pop(position))\n",
    "        print alist\n",
    "    return alist, count"
   ]
  },
  {
   "cell_type": "markdown",
   "metadata": {},
   "source": [
    "#### Notes:\n",
    "\n",
    "In the visualisation above the sorted list on the left increases with the outer loop index `i`. The arrows depict the insertion of the `i+1` into the correct position in the sorted list, by iterating on the sorted part with index `j`.\n",
    "\n",
    "Importantly, note that the inner loop is executed in reverse. This way, the closer an input list is to being sorted, the less operations are needed if you start searching for the right position from a position close to each nodes position. This implementation detail guarantees that insertion sort performs better the closer an input list is to being sorted."
   ]
  },
  {
   "cell_type": "code",
   "execution_count": 201,
   "metadata": {},
   "outputs": [],
   "source": [
    "alist=[10,7,8,3,8,9,5,2,1]"
   ]
  },
  {
   "cell_type": "code",
   "execution_count": 202,
   "metadata": {},
   "outputs": [
    {
     "name": "stdout",
     "output_type": "stream",
     "text": [
      "[10, 7, 8, 3, 8, 9, 5, 2, 1]\n",
      "[7, 10, 8, 3, 8, 9, 5, 2, 1]\n",
      "[7, 8, 10, 3, 8, 9, 5, 2, 1]\n",
      "[3, 7, 8, 10, 8, 9, 5, 2, 1]\n",
      "[3, 7, 8, 8, 10, 9, 5, 2, 1]\n",
      "[3, 7, 8, 8, 9, 10, 5, 2, 1]\n",
      "[3, 5, 7, 8, 8, 9, 10, 2, 1]\n",
      "[2, 3, 5, 7, 8, 8, 9, 10, 1]\n",
      "[1, 2, 3, 5, 7, 8, 8, 9, 10]\n",
      "Sorted:\n",
      "([1, 2, 3, 5, 7, 8, 8, 9, 10], 27)\n"
     ]
    }
   ],
   "source": [
    "sort = insertion_sort(alist)\n",
    "print \"Sorted:\"\n",
    "print sort"
   ]
  },
  {
   "cell_type": "markdown",
   "metadata": {},
   "source": [
    "### Comparison and Conclusion\n",
    "Both algorithms are **`O(N^2)`**. Insertion sort performs better the closer an input list is to being sorted. At the extreme that the input list is already sorted, insertion sort becomes **`O(n)`**. Here is the reason: The outer loop executes the same way for both algoriths. However, insertion sort needs only to span as many items as needed in order to find the right position (none, if the input list is already sorted, in which case the complexity relaxes to `O(n)` due to the outer loop), while selection sort needs always span the entire remaining list to locate the next minimum item."
   ]
  },
  {
   "cell_type": "code",
   "execution_count": 203,
   "metadata": {},
   "outputs": [
    {
     "name": "stdout",
     "output_type": "stream",
     "text": [
      "[1, 2, 3, 4, 5, 6, 7, 8, 9]\n",
      "[1, 2, 3, 4, 5, 6, 7, 8, 9]\n",
      "[1, 2, 3, 4, 5, 6, 7, 8, 9]\n",
      "[1, 2, 3, 4, 5, 6, 7, 8, 9]\n",
      "[1, 2, 3, 4, 5, 6, 7, 8, 9]\n",
      "[1, 2, 3, 4, 5, 6, 7, 8, 9]\n",
      "[1, 2, 3, 4, 5, 6, 7, 8, 9]\n",
      "[1, 2, 3, 4, 5, 6, 7, 8, 9]\n",
      "[1, 2, 3, 4, 5, 6, 7, 8, 9]\n",
      "36 inner loop iterations on a sorted input list\n"
     ]
    }
   ],
   "source": [
    "a=[1,2,3,4,5,6,7,8,9]\n",
    "sort, count=selection_sort(a)\n",
    "print count, \"inner loop iterations on a sorted input list\""
   ]
  },
  {
   "cell_type": "code",
   "execution_count": 204,
   "metadata": {},
   "outputs": [
    {
     "name": "stdout",
     "output_type": "stream",
     "text": [
      "[1, 2, 3, 4, 5, 6, 7, 8, 9]\n",
      "[1, 2, 3, 4, 5, 6, 7, 8, 9]\n",
      "[1, 2, 3, 4, 5, 6, 7, 8, 9]\n",
      "[1, 2, 3, 4, 5, 6, 7, 8, 9]\n",
      "[1, 2, 3, 4, 5, 6, 7, 8, 9]\n",
      "[1, 2, 3, 4, 5, 6, 7, 8, 9]\n",
      "[1, 2, 3, 4, 5, 6, 7, 8, 9]\n",
      "[1, 2, 3, 4, 5, 6, 7, 8, 9]\n",
      "[1, 2, 3, 4, 5, 6, 7, 8, 9]\n",
      "0 inner loop iterations on a sorted input list\n"
     ]
    }
   ],
   "source": [
    "a=[1,2,3,4,5,6,7,8,9]\n",
    "sort, count=insertion_sort(a)\n",
    "print count, \"inner loop iterations on a sorted input list\""
   ]
  }
 ],
 "metadata": {
  "kernelspec": {
   "display_name": "Python 2",
   "language": "python",
   "name": "python2"
  },
  "language_info": {
   "codemirror_mode": {
    "name": "ipython",
    "version": 2
   },
   "file_extension": ".py",
   "mimetype": "text/x-python",
   "name": "python",
   "nbconvert_exporter": "python",
   "pygments_lexer": "ipython2",
   "version": "2.7.15"
  }
 },
 "nbformat": 4,
 "nbformat_minor": 2
}
