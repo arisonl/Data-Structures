{
 "cells": [
  {
   "cell_type": "markdown",
   "metadata": {},
   "source": [
    "# Heaps"
   ]
  },
  {
   "cell_type": "markdown",
   "metadata": {},
   "source": [
    "Because heaps are complete binary trees:\n",
    "* Lists can be used naturally to implement them. In addition, because insertionand deletion involve swapping nodes, lists are efficient, so no need for an actual tree implementation in many cases. \n",
    "* To add a node you start by adding it at the end of the tree. Then the node _swims_ towards the right place. Swimming is a matter of exchanging an item with its parent, if the parent is smaller (in a max heap)."
   ]
  },
  {
   "cell_type": "markdown",
   "metadata": {},
   "source": [
    "**Compared to a BST:**\n",
    "* Aim is to get the top prio element fast, instead of optimising search. **O(1)** to get the top prio element. \n",
    "* Like BSTs **O(logN)** to insert and delete. Insertion and deletion however are quite different. For example, you add at the end of the tree (no need for search) and the added node swims, it does not stay where it was added, as with a BST.\n",
    "* Pros: \n",
    "  * You can otimise: The client thread can get the top prio item fast. Then the heap can take its O(logN) time to remove it asynchronously.\n",
    "  * The pros of an array list: Easy of implementation, better locaclity, no waste of pointers space."
   ]
  },
  {
   "cell_type": "markdown",
   "metadata": {},
   "source": [
    "To use a heap, you must be able to navigate the structure upwards and downwards:\n",
    "* The left child of the item at index `X` is at index `2X+1`.\n",
    "* The right child of the item at index `X` is at index `2X+2`.\n",
    "* The parent of the item at index `X` is at index `(X-1)/2`; the item at index 0 has no parent, of course!"
   ]
  },
  {
   "cell_type": "markdown",
   "metadata": {},
   "source": [
    "**Swim:** To add a node, append it to the heap and while it is larger than its parent, swap them.<br>\n",
    "<img src=\"Graphics/swim.png\" width=70% align=\"left\">"
   ]
  },
  {
   "cell_type": "markdown",
   "metadata": {},
   "source": [
    "**Sink:** To remove the top node, replace it with the last node and then start swapping the last node (which is now at the root of the heap) with the largest of its children for as long as the child node is smaller.<br>\n",
    "<img src=\"Graphics/sink.png\" width=70% align=\"left\">"
   ]
  },
  {
   "cell_type": "code",
   "execution_count": 11,
   "metadata": {},
   "outputs": [],
   "source": [
    "class MaxHeap:\n",
    "    def __init__(self):\n",
    "        self.hlist = []\n",
    "        \n",
    "    def enqueue(self, value):\n",
    "        self.hlist.append(value) \n",
    "    \n",
    "    def swim(self, value, child_index):\n",
    "        parent_index = (child_index-1)/2\n",
    "        if len(self.hlist)<=1 or parent_index<0 or self.hlist[parent_index]>=self.hlist[child_index]: return\n",
    "        self.hlist[child_index], self.hlist[parent_index] = self.hlist[parent_index], self.hlist[child_index]\n",
    "        self.swim(value, parent_index)\n",
    "    \n",
    "    def swim_iter(self):\n",
    "        child_index = len(self.hlist)-1\n",
    "        parent_index = (child_index-1)/2 \n",
    "        while self.hlist[child_index]>self.hlist[parent_index] and child_index>=0 and parent_index>=0:\n",
    "            self.hlist[child_index], self.hlist[parent_index] = self.hlist[parent_index], self.hlist[child_index]\n",
    "            child_index = parent_index\n",
    "            parent_index = (parent_index-1)/2\n",
    "        \n",
    "    def dequeue(self):\n",
    "        self.hlist[0], self.hlist[-1] = self.hlist[-1], self.hlist[0]\n",
    "        return self.hlist.pop(-1)\n",
    "    \n",
    "    def sink(self, parent_index):\n",
    "        left=2*parent_index+1\n",
    "        right=2*parent_index+2\n",
    "        if right>=len(self.hlist): return\n",
    "        if self.hlist[right] >= self.hlist[left]: child_index=right\n",
    "        else: child_index=left\n",
    "        if self.hlist[parent_index]>=self.hlist[child_index]: return\n",
    "        self.hlist[child_index], self.hlist[parent_index] = self.hlist[parent_index], self.hlist[child_index]\n",
    "        self.sink(child_index)\n",
    "        \n",
    "    def print_heap(self):\n",
    "        print self.hlist"
   ]
  },
  {
   "cell_type": "markdown",
   "metadata": {},
   "source": [
    "**Notes:**\n",
    "\n",
    "A lot of care is needed with the indices. Out of bounds is just around the corner.\n",
    "\n",
    "Both an recursive and an iterative implementation of `swim` are provided for demo purposes. Providing both for `sink` would be a waste of time, it is trivial once you see the insertion functions.\n",
    "\n",
    "It is much more convenient to separate `enquque` and `dequeue` from `swim` and `sink` respectively, particularly for the recursive implementations. Also because `dequeue` needs to return the top element so its flow is disrupted. Separating also supports an asynchronous enhancement.\n",
    "\n",
    "`dequeue` is interesting because it is quite pythonic. Check the swapping as well as the access to the last element of the list (using index: -1)."
   ]
  },
  {
   "cell_type": "code",
   "execution_count": 12,
   "metadata": {},
   "outputs": [
    {
     "name": "stdout",
     "output_type": "stream",
     "text": [
      "[10]\n",
      "[20, 10]\n",
      "[30, 10, 20]\n",
      "[40, 30, 20, 10]\n",
      "[50, 40, 20, 10, 30]\n",
      "[60, 40, 50, 10, 30, 20]\n",
      "[70, 40, 60, 10, 30, 20, 50]\n"
     ]
    }
   ],
   "source": [
    "h = MaxHeap()\n",
    "h.enqueue(10)\n",
    "h.swim_iter()\n",
    "h.print_heap()\n",
    "h.enqueue(20)\n",
    "h.swim_iter()\n",
    "h.print_heap()\n",
    "h.enqueue(30)\n",
    "h.swim_iter()\n",
    "h.print_heap()\n",
    "h.enqueue(40)\n",
    "h.swim_iter()\n",
    "h.print_heap()\n",
    "h.enqueue(50)\n",
    "h.swim_iter()\n",
    "h.print_heap()\n",
    "h.enqueue(60)\n",
    "h.swim_iter()\n",
    "h.print_heap()\n",
    "h.enqueue(70)\n",
    "h.swim_iter()\n",
    "h.print_heap()"
   ]
  },
  {
   "cell_type": "code",
   "execution_count": 13,
   "metadata": {},
   "outputs": [
    {
     "name": "stdout",
     "output_type": "stream",
     "text": [
      "[10]\n",
      "[20, 10]\n",
      "[30, 10, 20]\n",
      "[40, 30, 20, 10]\n",
      "[50, 40, 20, 10, 30]\n",
      "[60, 40, 50, 10, 30, 20]\n",
      "[70, 40, 60, 10, 30, 20, 50]\n"
     ]
    }
   ],
   "source": [
    "h = MaxHeap()\n",
    "h.enqueue(10)\n",
    "h.swim(10, len(h.hlist)-1)\n",
    "h.print_heap()\n",
    "h.enqueue(20)\n",
    "h.swim(20, len(h.hlist)-1)\n",
    "h.print_heap()\n",
    "h.enqueue(30)\n",
    "h.swim(30, len(h.hlist)-1)\n",
    "h.print_heap()\n",
    "h.enqueue(40)\n",
    "h.swim(40, len(h.hlist)-1)\n",
    "h.print_heap()\n",
    "h.enqueue(50)\n",
    "h.swim(50, len(h.hlist)-1)\n",
    "h.print_heap()\n",
    "h.enqueue(60)\n",
    "h.swim(60, len(h.hlist)-1)\n",
    "h.print_heap()\n",
    "h.enqueue(70)\n",
    "h.swim(70, len(h.hlist)-1)\n",
    "h.print_heap()"
   ]
  },
  {
   "cell_type": "code",
   "execution_count": 14,
   "metadata": {},
   "outputs": [
    {
     "name": "stdout",
     "output_type": "stream",
     "text": [
      "popped: 70\n",
      "[50, 40, 60, 10, 30, 20]\n"
     ]
    }
   ],
   "source": [
    "a=h.dequeue()\n",
    "print \"popped:\", a\n",
    "h.print_heap()"
   ]
  },
  {
   "cell_type": "code",
   "execution_count": 15,
   "metadata": {},
   "outputs": [
    {
     "name": "stdout",
     "output_type": "stream",
     "text": [
      "[60, 40, 50, 10, 30, 20]\n"
     ]
    }
   ],
   "source": [
    "h.sink(0)\n",
    "h.print_heap()"
   ]
  },
  {
   "cell_type": "code",
   "execution_count": null,
   "metadata": {},
   "outputs": [],
   "source": []
  }
 ],
 "metadata": {
  "kernelspec": {
   "display_name": "Python 2",
   "language": "python",
   "name": "python2"
  },
  "language_info": {
   "codemirror_mode": {
    "name": "ipython",
    "version": 2
   },
   "file_extension": ".py",
   "mimetype": "text/x-python",
   "name": "python",
   "nbconvert_exporter": "python",
   "pygments_lexer": "ipython2",
   "version": "2.7.15"
  }
 },
 "nbformat": 4,
 "nbformat_minor": 2
}
