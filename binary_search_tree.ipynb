{
 "cells": [
  {
   "cell_type": "markdown",
   "metadata": {},
   "source": [
    "# Binary Search Trees\n",
    "\n",
    "Binary search trees support fast search, insertion and deletion, all of **`O(logN)`** complexity. Notes:\n",
    "* **Compared to a sorted list:**\n",
    "  * **Array list:** Binary search on an array list is also `O(logN)`. However insertion and deletion is faster on a BST (both `O(1)` after the searching step) because in an array list you need to move elements around. \n",
    "  * **Linked list:** On the other hand binary search on a linked list is `O(N)` because you need to iterate in order to get the middle element.\n",
    "* **Compared to a hash table:** \n",
    "  * The top difference is that BSTs retain the notion of order, while hash tables are for unordered data. This requires some book keeping but also allows for operations on closeby items (successors, predecessors etc.), min-max, sequences etc.\n",
    "  * BSTs also guarantee a worst case O(logN). Hash tables, depending on the underlying implementation may cost in time and space under certain conditions."
   ]
  },
  {
   "cell_type": "markdown",
   "metadata": {},
   "source": [
    "<img src=\"Graphics/BST2.png\" width=\"30%\" align=\"left\">"
   ]
  },
  {
   "cell_type": "markdown",
   "metadata": {},
   "source": [
    "#### Properties:\n",
    "* **Mimumum:** Follow the left links from the root all the way down to the leaf. \n",
    "* **Maximum:** Follow the right links from the root all the way down to the leaf.\n",
    "* **Balancing**: Each branch of BST is an ordered linked list. The leftmost starting from the root leads to the overall minimum and the rightmost leads to the overall maximum. The order with which we add and delete items affetcts the BSTs structure and the tree may become imbalanced. Imbalancing a tree diminishes its performance. In the extreme case degenerate to a linked list. For this balancing algorithms have been developed.\n",
    "* **Successor:** A node’s successor is the one with the next largest value in the tree. For example, in the tree above, the successor of A is D, the successor of H is I, and the successor of I is K. If a node has a right child, then the successor is the minimum of that. If the node has no right child you need to search back up the tree until you find a \"right turn\". E.g.: H->F->D->I\n",
    "* **Predecessor:** The next smallest value in the tree. If a node has a left child, then the successor is the maximum of that. If a node has no left child you work up the tree until you find a “left turn\"."
   ]
  },
  {
   "cell_type": "markdown",
   "metadata": {},
   "source": [
    "#### Operations:\n",
    "* **Search:** Start at the root node. If the key equals the value of the node, return the node. If the key is smaller than the node, go left. Is the key is larger, go right. \n",
    "* **Insert:** Binary search to find the position. Add as leaf. For example in the BST above to add J: I->L->K and add as a left child of K.\n",
    "* **Delete:** \n",
    "   * No children (a leaf): Simply remove it. For example remove H.\n",
    "   * One child (either left or right): Replace the deleted node with its child. For example, to F hook H under D.\n",
    "   * Two children: Swap the node with its successor (or predecessor would be the same thing), remove it and try again with either case 1 or case 2 above. For example, to remove root I, find the sucessor: K. Swap K node with I node (temporarilly violates the BST). Remove I (case 1 above). \n",
    "* **In-order traversal:** 1) Traverse the left subtree, 2) Visit the node, 3) traverse the right sub-tree:\n",
    "  * A-D-F-H-I-K-L-M-P\n",
    "* **Pre-order traversal:** 1) Visit the node, 2) Traverse the left subtree, 3) traverse the right sub-tree:\n",
    "  * I-D-A-F-H-L-K-M-P\n",
    "* **Post-order traversal:** 1) Traverse the left subtree, 2) traverse the right sub-tree, 3) Visit the node:\n",
    "  * A-H-F-D-K-P-M-L-I\n",
    "* Note: the iterative versions of the traversals are much more involved."
   ]
  },
  {
   "cell_type": "code",
   "execution_count": 149,
   "metadata": {},
   "outputs": [],
   "source": [
    "class Node:\n",
    "    def __init__(self,value):\n",
    "        self.val = value\n",
    "        self.parent = None\n",
    "        self.left = None\n",
    "        self.right = None\n",
    "        self.flag = False #helper field\n",
    "\n",
    "class BST:\n",
    "    def __init__(self,root):\n",
    "        self.root = root\n",
    "        \n",
    "    def search(self, node, current):\n",
    "        if node.val==current.val: return current, True\n",
    "        if node.val>current.val and current.right is not None: return self.search(node, current.right)\n",
    "        if node.val<current.val and  current.left is not None: return self.search(node, current.left)\n",
    "        return current, False\n",
    "    \n",
    "    def insert(self, value):\n",
    "        newnode = Node(value)\n",
    "        node, flag = self.search(newnode, root)\n",
    "        if flag==True:\n",
    "            print \"Value exists\"\n",
    "            return\n",
    "        else:\n",
    "            newnode.parent=node\n",
    "            if newnode.val<node.val: node.left=newnode\n",
    "            elif newnode.val>node.val: node.right=newnode\n",
    "    \n",
    "    def sumit(self, tree):    \n",
    "        if tree is None: return 0\n",
    "        return tree.val + self.sumit(tree.left) + self.sumit(tree.right)\n",
    "            \n",
    "    def in_order(self, tree):\n",
    "        assert (tree is not None), \"empty tree\"\n",
    "        if tree.left is not None: self.in_order(tree.left)\n",
    "        print tree.val\n",
    "        if tree.right is not None: self.in_order(tree.right)"
   ]
  },
  {
   "cell_type": "code",
   "execution_count": 150,
   "metadata": {},
   "outputs": [],
   "source": [
    "root = Node('I')\n",
    "tree = BST(root)"
   ]
  },
  {
   "cell_type": "code",
   "execution_count": 151,
   "metadata": {},
   "outputs": [],
   "source": [
    "tree.insert('D')\n",
    "tree.insert('L')\n",
    "tree.insert('A')\n",
    "tree.insert('F')\n",
    "tree.insert('K')\n",
    "tree.insert('M')\n",
    "tree.insert('P')\n",
    "tree.insert('H')"
   ]
  },
  {
   "cell_type": "code",
   "execution_count": 152,
   "metadata": {},
   "outputs": [
    {
     "name": "stdout",
     "output_type": "stream",
     "text": [
      "A\n",
      "D\n",
      "F\n",
      "H\n",
      "I\n",
      "K\n",
      "L\n",
      "M\n",
      "P\n"
     ]
    }
   ],
   "source": [
    "tree.in_order(root)"
   ]
  },
  {
   "cell_type": "code",
   "execution_count": 155,
   "metadata": {},
   "outputs": [],
   "source": [
    "root = Node(5)\n",
    "tree = BST(root)\n",
    "\n",
    "tree.insert(1)\n",
    "tree.insert(3)\n",
    "tree.insert(8)\n",
    "tree.insert(0)\n",
    "tree.insert(2)\n",
    "tree.insert(6)\n",
    "tree.insert(4)\n",
    "tree.insert(9)\n",
    "tree.insert(7)"
   ]
  },
  {
   "cell_type": "code",
   "execution_count": 156,
   "metadata": {},
   "outputs": [
    {
     "name": "stdout",
     "output_type": "stream",
     "text": [
      "0\n",
      "1\n",
      "2\n",
      "3\n",
      "4\n",
      "5\n",
      "6\n",
      "7\n",
      "8\n",
      "9\n"
     ]
    }
   ],
   "source": [
    "tree.in_order(root)"
   ]
  },
  {
   "cell_type": "code",
   "execution_count": 157,
   "metadata": {},
   "outputs": [
    {
     "data": {
      "text/plain": [
       "45"
      ]
     },
     "execution_count": 157,
     "metadata": {},
     "output_type": "execute_result"
    }
   ],
   "source": [
    "tree.sumit(root)"
   ]
  }
 ],
 "metadata": {
  "kernelspec": {
   "display_name": "Python 2",
   "language": "python",
   "name": "python2"
  },
  "language_info": {
   "codemirror_mode": {
    "name": "ipython",
    "version": 2
   },
   "file_extension": ".py",
   "mimetype": "text/x-python",
   "name": "python",
   "nbconvert_exporter": "python",
   "pygments_lexer": "ipython2",
   "version": "2.7.15"
  }
 },
 "nbformat": 4,
 "nbformat_minor": 2
}
