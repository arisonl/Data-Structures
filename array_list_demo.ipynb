{
 "cells": [
  {
   "cell_type": "code",
   "execution_count": 19,
   "metadata": {},
   "outputs": [],
   "source": [
    "%run array_list.ipynb"
   ]
  },
  {
   "cell_type": "code",
   "execution_count": 8,
   "metadata": {},
   "outputs": [
    {
     "name": "stdout",
     "output_type": "stream",
     "text": [
      "0 1 2 3 4 5 size= 6\n"
     ]
    }
   ],
   "source": [
    "#Create a list\n",
    "alist = MyArrayList(10)\n",
    "for i in range(6):\n",
    "    alist.insert(i,i)\n",
    "alist.print_list()"
   ]
  },
  {
   "cell_type": "code",
   "execution_count": 9,
   "metadata": {},
   "outputs": [
    {
     "name": "stdout",
     "output_type": "stream",
     "text": [
      "0 10 1 2 3 4 5 size= 7\n"
     ]
    }
   ],
   "source": [
    "#insert in the middle\n",
    "alist.insert(10,1)\n",
    "alist.print_list()"
   ]
  },
  {
   "cell_type": "code",
   "execution_count": 10,
   "metadata": {},
   "outputs": [
    {
     "name": "stdout",
     "output_type": "stream",
     "text": [
      "99 0 10 1 2 3 4 5 size= 8\n"
     ]
    }
   ],
   "source": [
    "#insert at the beggining\n",
    "alist.insert(99,0)\n",
    "alist.print_list()"
   ]
  },
  {
   "cell_type": "code",
   "execution_count": 11,
   "metadata": {},
   "outputs": [
    {
     "data": {
      "text/plain": [
       "2"
      ]
     },
     "execution_count": 11,
     "metadata": {},
     "output_type": "execute_result"
    }
   ],
   "source": [
    "#search for values that exist\n",
    "alist.search(10)"
   ]
  },
  {
   "cell_type": "code",
   "execution_count": 12,
   "metadata": {},
   "outputs": [
    {
     "name": "stdout",
     "output_type": "stream",
     "text": [
      "99 0 1 2 3 4 5 size= 7\n"
     ]
    }
   ],
   "source": [
    "#delete in the middle\n",
    "alist.delete(2)\n",
    "alist.print_list()"
   ]
  },
  {
   "cell_type": "code",
   "execution_count": 13,
   "metadata": {},
   "outputs": [
    {
     "name": "stdout",
     "output_type": "stream",
     "text": [
      "99 0 1 2 3 4 5 60 size= 8\n"
     ]
    }
   ],
   "source": [
    "#insert at the end\n",
    "alist.append(60)\n",
    "alist.print_list()"
   ]
  },
  {
   "cell_type": "code",
   "execution_count": 14,
   "metadata": {},
   "outputs": [
    {
     "data": {
      "text/plain": [
       "False"
      ]
     },
     "execution_count": 14,
     "metadata": {},
     "output_type": "execute_result"
    }
   ],
   "source": [
    "#search for values that do not exist\n",
    "alist.search(10)"
   ]
  },
  {
   "cell_type": "code",
   "execution_count": 15,
   "metadata": {},
   "outputs": [
    {
     "name": "stdout",
     "output_type": "stream",
     "text": [
      "0 1 2 3 4 5 60 size= 7\n"
     ]
    }
   ],
   "source": [
    "#delete the first node\n",
    "alist.delete(0)\n",
    "alist.print_list()"
   ]
  },
  {
   "cell_type": "code",
   "execution_count": 16,
   "metadata": {},
   "outputs": [
    {
     "name": "stdout",
     "output_type": "stream",
     "text": [
      "0 1 2 3 4 5 size= 6\n"
     ]
    }
   ],
   "source": [
    "#delete at the end\n",
    "#delete the first node\n",
    "alist.delete(alist.size-1)\n",
    "alist.print_list()"
   ]
  },
  {
   "cell_type": "code",
   "execution_count": 18,
   "metadata": {},
   "outputs": [
    {
     "name": "stdout",
     "output_type": "stream",
     "text": [
      "increased capacity: 15, size:10\n",
      "0 1 2 3 4 5 60 70 80 90 60 70 80 90 size= 14\n",
      "0 1 2 3 4 5 60 70 80 90 60 70 80 90 100 size= 15\n"
     ]
    }
   ],
   "source": [
    "#increase the list capacity to more than 10 in order to accommodate more elements\n",
    "alist.append(60)\n",
    "alist.append(70)\n",
    "alist.append(80)\n",
    "alist.append(90)\n",
    "alist.print_list()\n",
    "\n",
    "alist.append(100)\n",
    "alist.print_list()"
   ]
  },
  {
   "cell_type": "code",
   "execution_count": null,
   "metadata": {},
   "outputs": [],
   "source": []
  },
  {
   "cell_type": "code",
   "execution_count": null,
   "metadata": {},
   "outputs": [],
   "source": []
  }
 ],
 "metadata": {
  "kernelspec": {
   "display_name": "Python 2",
   "language": "python",
   "name": "python2"
  },
  "language_info": {
   "codemirror_mode": {
    "name": "ipython",
    "version": 2
   },
   "file_extension": ".py",
   "mimetype": "text/x-python",
   "name": "python",
   "nbconvert_exporter": "python",
   "pygments_lexer": "ipython2",
   "version": "2.7.15"
  }
 },
 "nbformat": 4,
 "nbformat_minor": 2
}
