{
 "cells": [
  {
   "cell_type": "code",
   "execution_count": 17,
   "metadata": {},
   "outputs": [],
   "source": [
    "%run linked_list.ipynb"
   ]
  },
  {
   "cell_type": "code",
   "execution_count": 18,
   "metadata": {},
   "outputs": [
    {
     "name": "stdout",
     "output_type": "stream",
     "text": [
      "0 1 2 3 4 5 size= 6\n"
     ]
    }
   ],
   "source": [
    "#Create a list\n",
    "alist = MyLinkedList()\n",
    "for i in range(6):\n",
    "    alist.insert(i,i)\n",
    "alist.print_list()"
   ]
  },
  {
   "cell_type": "code",
   "execution_count": 19,
   "metadata": {},
   "outputs": [
    {
     "name": "stdout",
     "output_type": "stream",
     "text": [
      "0 10 1 2 3 4 5 size= 7\n"
     ]
    }
   ],
   "source": [
    "#insert in the middle\n",
    "alist.insert(10,1)\n",
    "alist.print_list()"
   ]
  },
  {
   "cell_type": "code",
   "execution_count": 20,
   "metadata": {},
   "outputs": [
    {
     "name": "stdout",
     "output_type": "stream",
     "text": [
      "99 0 10 1 2 3 4 5 size= 8\n"
     ]
    }
   ],
   "source": [
    "#insert at the beggining\n",
    "alist.insert(99,0)\n",
    "alist.print_list()"
   ]
  },
  {
   "cell_type": "code",
   "execution_count": 21,
   "metadata": {},
   "outputs": [
    {
     "data": {
      "text/plain": [
       "2"
      ]
     },
     "execution_count": 21,
     "metadata": {},
     "output_type": "execute_result"
    }
   ],
   "source": [
    "#search for values that exist\n",
    "alist.search(10)"
   ]
  },
  {
   "cell_type": "code",
   "execution_count": 22,
   "metadata": {},
   "outputs": [
    {
     "name": "stdout",
     "output_type": "stream",
     "text": [
      "99 0 1 2 3 4 5 size= 7\n",
      "10\n"
     ]
    }
   ],
   "source": [
    "#delete in the middle\n",
    "a=alist.delete(2)\n",
    "alist.print_list()\n",
    "print a"
   ]
  },
  {
   "cell_type": "code",
   "execution_count": 23,
   "metadata": {},
   "outputs": [
    {
     "name": "stdout",
     "output_type": "stream",
     "text": [
      "99 60 0 1 2 3 4 5 size= 8\n"
     ]
    }
   ],
   "source": [
    "#insert at the end\n",
    "alist.append(60)\n",
    "alist.print_list()"
   ]
  },
  {
   "cell_type": "code",
   "execution_count": 48,
   "metadata": {},
   "outputs": [
    {
     "data": {
      "text/plain": [
       "False"
      ]
     },
     "execution_count": 48,
     "metadata": {},
     "output_type": "execute_result"
    }
   ],
   "source": [
    "#search for values that do not exist\n",
    "alist.search(10)"
   ]
  },
  {
   "cell_type": "code",
   "execution_count": 24,
   "metadata": {},
   "outputs": [
    {
     "name": "stdout",
     "output_type": "stream",
     "text": [
      "60 0 1 2 3 4 5 size= 7\n"
     ]
    }
   ],
   "source": [
    "#delete the first node\n",
    "alist.delete(0)\n",
    "alist.print_list()"
   ]
  },
  {
   "cell_type": "code",
   "execution_count": 26,
   "metadata": {},
   "outputs": [
    {
     "name": "stdout",
     "output_type": "stream",
     "text": [
      "60 0 1 2 3 size= 5\n"
     ]
    }
   ],
   "source": [
    "#delete at the end\n",
    "#delete the first node\n",
    "alist.delete(alist.size-1)\n",
    "alist.print_list()"
   ]
  },
  {
   "cell_type": "code",
   "execution_count": 27,
   "metadata": {},
   "outputs": [
    {
     "name": "stdout",
     "output_type": "stream",
     "text": [
      "1\n",
      "2\n"
     ]
    }
   ],
   "source": [
    "#access nodes\n",
    "print alist.access_previous(3).val\n",
    "print alist.access_previous(3).next.val"
   ]
  },
  {
   "cell_type": "code",
   "execution_count": null,
   "metadata": {},
   "outputs": [],
   "source": []
  }
 ],
 "metadata": {
  "kernelspec": {
   "display_name": "Python 2",
   "language": "python",
   "name": "python2"
  },
  "language_info": {
   "codemirror_mode": {
    "name": "ipython",
    "version": 2
   },
   "file_extension": ".py",
   "mimetype": "text/x-python",
   "name": "python",
   "nbconvert_exporter": "python",
   "pygments_lexer": "ipython2",
   "version": "2.7.15"
  }
 },
 "nbformat": 4,
 "nbformat_minor": 2
}
