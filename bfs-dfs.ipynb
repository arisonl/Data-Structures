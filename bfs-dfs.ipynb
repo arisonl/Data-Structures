{
 "cells": [
  {
   "cell_type": "markdown",
   "metadata": {},
   "source": [
    "# Breadth-First and Depth-First Search"
   ]
  },
  {
   "cell_type": "markdown",
   "metadata": {},
   "source": [
    "### BFS\n",
    "\n",
    "- Initialise:\n",
    "  - All vertices `undiscovered`\n",
    "  - Initialise Q\n",
    "  - enqueue(**root**)\n",
    "- While Q is not empty:\n",
    "  - **v** = dequeue\n",
    "  - For all neighbouring vertices **n**:\n",
    "  - if **n** is not `discovered`:\n",
    "    - mark it as `discovered`\n",
    "    - enqueue(**n**)\n",
    "    \n",
    "Here is an example:<br>\n",
    "<img src=\"Graphics/bfsexample.png\" width=\"60%\" align=\"left\">"
   ]
  },
  {
   "cell_type": "markdown",
   "metadata": {},
   "source": [
    "##### Notes:\n",
    "We will show an implementation that instead of an adjacency list uses a dictionary and sets. Here is the reasoning why this implementation choice:\n",
    "- The main operation for the adj. list would be to get the neighbours, given a node. The fastest way to do this is via a dictionary whose key is the node id.\n",
    "- Next, the main operation you want to do with the neighbours is to see which of them are undiscovered so as to add them to the queue. So, if you keep a set of discovered nodes, you can compute the set difference between the already discovered and neighbouring nodes. These are the newly discovered nodes."
   ]
  },
  {
   "cell_type": "code",
   "execution_count": 442,
   "metadata": {},
   "outputs": [],
   "source": [
    "def bfs(g, r):\n",
    "    q = []\n",
    "    q.insert(0, r)\n",
    "    distance=0\n",
    "    predecessor=None\n",
    "    discovered={r}\n",
    "        \n",
    "    footprint=[(r, distance, predecessor)] # optional: helper function to keep track of the predecessor and distance\n",
    "    while q: # pythonic for a non-empty queue\n",
    "        popped = q.pop() # pop a node from the queue:\n",
    "            \n",
    "        neighbs = g.get(popped) # get the node's neighbours\n",
    "            \n",
    "        undiscovered = neighbs - discovered #\n",
    "            \n",
    "        # tricky point: increase distance counter only if newly discovered nodes emerge:\n",
    "        if undiscovered: \n",
    "            distance+=1  \n",
    "            # add each newly discovered node to the queue and to the set of discovered\n",
    "            for u in undiscovered: \n",
    "                discovered.add(u)\n",
    "                footprint.append([u, distance, popped])\n",
    "                q.insert(0, u)\n",
    "            print \"set of discovered nodes:\", discovered\n",
    "            \n",
    "    print footprint"
   ]
  },
  {
   "cell_type": "markdown",
   "metadata": {},
   "source": [
    "Here is a dictionary/set representation of the example graph shown above:\n",
    "\n",
    "`G={\n",
    "    's': set(['w', 'r']),\n",
    "    'r': set(['v']),\n",
    "    'w': set(['s', 't', 'x']),\n",
    "    't': set(['w', 'x', 'u']),\n",
    "    'x': set(['w', 't', 'u', 'y']),\n",
    "    'y': set(['u', 'x']),\n",
    "    'v': set(['r']),\n",
    "    'u': set(['x', 'y', 't'])\n",
    "}`<br>"
   ]
  },
  {
   "cell_type": "code",
   "execution_count": 443,
   "metadata": {},
   "outputs": [],
   "source": [
    "G={\n",
    "    's': set(['w', 'r']),\n",
    "    'r': set(['v']),\n",
    "    'w': set(['s', 't', 'x']),\n",
    "    't': set(['w', 'x', 'u']),\n",
    "    'x': set(['w', 't', 'u', 'y']),\n",
    "    'y': set(['u', 'x']),\n",
    "    'v': set(['r']),\n",
    "    'u': set(['x', 'y', 't'])\n",
    "}"
   ]
  },
  {
   "cell_type": "code",
   "execution_count": 444,
   "metadata": {},
   "outputs": [
    {
     "name": "stdout",
     "output_type": "stream",
     "text": [
      "set of discovered nodes: set(['s', 'r', 'w'])\n",
      "set of discovered nodes: set(['s', 'r', 'w', 'v'])\n",
      "set of discovered nodes: set(['s', 'r', 't', 'w', 'v', 'x'])\n",
      "set of discovered nodes: set(['s', 'r', 'u', 't', 'w', 'v', 'y', 'x'])\n",
      "[('s', 0, None), ['r', 1, 's'], ['w', 1, 's'], ['v', 2, 'r'], ['x', 3, 'w'], ['t', 3, 'w'], ['y', 4, 'x'], ['u', 4, 'x']]\n"
     ]
    }
   ],
   "source": [
    "bfs(G, 's')"
   ]
  },
  {
   "cell_type": "code",
   "execution_count": null,
   "metadata": {},
   "outputs": [],
   "source": []
  },
  {
   "cell_type": "code",
   "execution_count": null,
   "metadata": {},
   "outputs": [],
   "source": []
  }
 ],
 "metadata": {
  "kernelspec": {
   "display_name": "Python 2",
   "language": "python",
   "name": "python2"
  },
  "language_info": {
   "codemirror_mode": {
    "name": "ipython",
    "version": 2
   },
   "file_extension": ".py",
   "mimetype": "text/x-python",
   "name": "python",
   "nbconvert_exporter": "python",
   "pygments_lexer": "ipython2",
   "version": "2.7.15"
  }
 },
 "nbformat": 4,
 "nbformat_minor": 2
}
