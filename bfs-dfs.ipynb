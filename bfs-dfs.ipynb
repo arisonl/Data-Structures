{
 "cells": [
  {
   "cell_type": "markdown",
   "metadata": {},
   "source": [
    "# Breadth-First and Depth-First Search"
   ]
  },
  {
   "cell_type": "markdown",
   "metadata": {},
   "source": [
    "### BFS\n",
    "\n",
    "- Initialise:\n",
    "  - All vertices `undiscovered`\n",
    "  - Initialise Queue `Q`\n",
    "  - `Q.enqueue(root)`\n",
    "- While Q is not empty:\n",
    "  - **v** = `Q.dequeue()`\n",
    "  - For all neighbouring vertices **n**:\n",
    "  - if **n** is not `discovered`:\n",
    "    - mark it as `discovered`\n",
    "    - `Q.enqueue(n)`\n",
    "    \n",
    "Here is an example:<br>\n",
    "<img src=\"Graphics/bfsexample.png\" width=\"60%\" align=\"left\">"
   ]
  },
  {
   "cell_type": "markdown",
   "metadata": {},
   "source": [
    "##### Notes:\n",
    "We will show an implementation that instead of an adjacency list uses a dictionary and sets. Here is the reasoning why this implementation choice:\n",
    "- The main operation for the adj. list would be to get the neighbours, given a node. The fastest way to do this is via a dictionary whose key is the node id.\n",
    "- Next, the main operation you want to do with the neighbours is to see which of them are undiscovered so as to add them to the queue. So, if you keep a set of discovered nodes, you can compute the set difference between the already discovered and neighbouring nodes. These are the newly discovered nodes.\n",
    "- Minor point: we will use a Python list as a queue."
   ]
  },
  {
   "cell_type": "code",
   "execution_count": 3,
   "metadata": {},
   "outputs": [],
   "source": [
    "def bfs(g, start):\n",
    "    q = []\n",
    "    q.insert(0, start)\n",
    "    distance=0\n",
    "    predecessor=None\n",
    "    discovered={start}\n",
    "        \n",
    "    while q: # pythonic for a non-empty queue\n",
    "        popped = q.pop() # pop a node from the list (used here as a stack)\n",
    "            \n",
    "        neighbs = g.get(popped) # get the node's neighbours\n",
    "        \n",
    "        # sets difference: the undiscovered is the set difference of neighbours and dicsovered:\n",
    "        undiscovered = neighbs - discovered \n",
    "        \n",
    "        if undiscovered: \n",
    "            # add each newly discovered node to the queue and to the set of discovered\n",
    "            for u in undiscovered: \n",
    "                discovered.add(u)\n",
    "                q.insert(0, u)\n",
    "            print \"set of discovered nodes:\", discovered\n",
    "     \n",
    "    return discovered"
   ]
  },
  {
   "cell_type": "markdown",
   "metadata": {},
   "source": [
    "Here is a dictionary/set representation of the example graph shown above:\n",
    "\n",
    "`G={\n",
    "    's': set(['w', 'r']),\n",
    "    'r': set(['s', 'v']),\n",
    "    'w': set(['s', 't', 'x']),\n",
    "    't': set(['w', 'x', 'u']),\n",
    "    'x': set(['w', 't', 'u', 'y']),\n",
    "    'y': set(['u', 'x']),\n",
    "    'v': set(['r']),\n",
    "    'u': set(['x', 'y', 't'])\n",
    "}`<br>"
   ]
  },
  {
   "cell_type": "code",
   "execution_count": 4,
   "metadata": {},
   "outputs": [],
   "source": [
    "G={\n",
    "    's': set(['w', 'r']),\n",
    "    'r': set(['s', 'v']),\n",
    "    'w': set(['s', 't', 'x']),\n",
    "    't': set(['w', 'x', 'u']),\n",
    "    'x': set(['w', 't', 'u', 'y']),\n",
    "    'y': set(['u', 'x']),\n",
    "    'v': set(['r']),\n",
    "    'u': set(['x', 'y', 't'])\n",
    "}"
   ]
  },
  {
   "cell_type": "markdown",
   "metadata": {},
   "source": [
    "### DFS\n",
    "- Initialise:\n",
    "  - All vertices `undiscovered`\n",
    "  - Initialise Stack `S`\n",
    "  - `S.push(root)`\n",
    "- While S is not empty:\n",
    "  - **v** = `S.pop()`\n",
    "  - For all neighbouring vertices **n**:\n",
    "  - if **n** is not `discovered`:\n",
    "    - mark it as `discovered`\n",
    "    - `S.push(n)`\n",
    "    \n",
    "This is the exact same algorithm only instead of queue, we use a stack."
   ]
  },
  {
   "cell_type": "code",
   "execution_count": 5,
   "metadata": {},
   "outputs": [],
   "source": [
    "def dfs(g, start):\n",
    "    s = []\n",
    "    s.insert(0, start)\n",
    "    predecessor=None\n",
    "    discovered={start}\n",
    "    \n",
    "    while s: # pythonic for a non-empty list (used here as a stack)\n",
    "        popped = s.pop(0) # pop a node from the stack:\n",
    "            \n",
    "        neighbs = g.get(popped) # get the node's neighbours\n",
    "        \n",
    "        # sets difference: the undiscovered is the set difference of neighbours and dicsovered:\n",
    "        undiscovered = neighbs - discovered #\n",
    "            \n",
    "        if undiscovered: \n",
    "            # add each newly discovered node to the stack and to the set of discovered\n",
    "            for u in undiscovered: \n",
    "                discovered.add(u)\n",
    "                s.insert(0, u)\n",
    "            print \"set of discovered nodes:\", discovered\n",
    "            \n",
    "    return discovered"
   ]
  },
  {
   "cell_type": "markdown",
   "metadata": {},
   "source": [
    "### Comparison"
   ]
  },
  {
   "cell_type": "markdown",
   "metadata": {},
   "source": [
    "Here is a possible execution that shows the difference between BFS and DFS on the above example (it is not necessarilly exactly how the actual program will unfold):<br>\n",
    "<img src=\"Graphics/graphds5.png\" width=\"40%\" align=\"left\">"
   ]
  },
  {
   "cell_type": "code",
   "execution_count": 6,
   "metadata": {},
   "outputs": [
    {
     "name": "stdout",
     "output_type": "stream",
     "text": [
      "set of discovered nodes: set(['s', 'r', 'w'])\n",
      "set of discovered nodes: set(['s', 'r', 'w', 'v'])\n",
      "set of discovered nodes: set(['s', 'r', 't', 'w', 'v', 'x'])\n",
      "set of discovered nodes: set(['s', 'r', 'u', 't', 'w', 'v', 'y', 'x'])\n"
     ]
    },
    {
     "data": {
      "text/plain": [
       "{'r', 's', 't', 'u', 'v', 'w', 'x', 'y'}"
      ]
     },
     "execution_count": 6,
     "metadata": {},
     "output_type": "execute_result"
    }
   ],
   "source": [
    "bfs(G, 's')"
   ]
  },
  {
   "cell_type": "code",
   "execution_count": 7,
   "metadata": {},
   "outputs": [
    {
     "name": "stdout",
     "output_type": "stream",
     "text": [
      "set of discovered nodes: set(['s', 'r', 'w'])\n",
      "set of discovered nodes: set(['x', 's', 'r', 't', 'w'])\n",
      "set of discovered nodes: set(['s', 'r', 'u', 't', 'w', 'x'])\n",
      "set of discovered nodes: set(['s', 'r', 'u', 't', 'w', 'y', 'x'])\n",
      "set of discovered nodes: set(['s', 'r', 'u', 't', 'w', 'v', 'y', 'x'])\n"
     ]
    },
    {
     "data": {
      "text/plain": [
       "{'r', 's', 't', 'u', 'v', 'w', 'x', 'y'}"
      ]
     },
     "execution_count": 7,
     "metadata": {},
     "output_type": "execute_result"
    }
   ],
   "source": [
    "dfs(G, 's')"
   ]
  },
  {
   "cell_type": "markdown",
   "metadata": {},
   "source": [
    "### Exercises\n",
    "#### Find the shortest path between two nodes"
   ]
  },
  {
   "cell_type": "markdown",
   "metadata": {},
   "source": [
    "We will tweak BFS to keep track of the predecessor for each discovered node. At the end we will backtrack the path.\n",
    "\n",
    "Here is an example of how the two trackers work in the code below. Say we want to find the path from a to s:<br>\n",
    "`track=[a f g e g t v k s b j]`<br>\n",
    "`prede=[0 a r l f o g u v n g]`<br>\n",
    "The predecessor of the target s (add s to the path) is v (add v to the path), of v is g (add g to the path), of g is f (add  f to the path), of f is a and a is the target (add a to the path)."
   ]
  },
  {
   "cell_type": "code",
   "execution_count": 14,
   "metadata": {},
   "outputs": [],
   "source": [
    "def bfs_paths(g, start, target):\n",
    "    q = []\n",
    "    q.insert(0, start)\n",
    "    \n",
    "    discovered={start}\n",
    "    \n",
    "    # We will keep track of all nodes in the order they get discovered\n",
    "    tracker=[start]\n",
    "    # We will keep the predecessor of each discovered node in a separate list\n",
    "    # We will use this predecessor list to build the path\n",
    "    previous=['0'] # the start element does not have a predecessor\n",
    "    \n",
    "    # This code is standard BFS\n",
    "    while q: \n",
    "        popped = q.pop() \n",
    "            \n",
    "        neighbs = g.get(popped) \n",
    "        \n",
    "        undiscovered = neighbs - discovered \n",
    "            \n",
    "        if undiscovered: \n",
    "            for u in undiscovered: \n",
    "                discovered.add(u)\n",
    "                tracker.append(u) # Here we keep track of the newly discovered node\n",
    "                previous.append(popped) # and its predecessor. The rest of the code remain the same\n",
    "                q.insert(0, u)\n",
    "    \n",
    "    # We will now use the trackers to backtrack the path from the aim to the start\n",
    "    path=[]\n",
    "    size=len(tracker)\n",
    "    \n",
    "    # Start from the end and...\n",
    "    i=size-1    \n",
    "    prev = previous[i]\n",
    "    \n",
    "    # ...locate the aim node and its predecessor in the tracker and predecessor list respectively\n",
    "    while tracker[i]!=target:\n",
    "        i-=1\n",
    "    t=tracker[i]\n",
    "    p=previous[i]\n",
    "    path.insert(0,t)\n",
    "    \n",
    "    # Then get the predessor for each node in the path until the start\n",
    "    while i>=0:\n",
    "        while tracker[i]!=p and i>=0:\n",
    "            i-=1\n",
    "        path.insert(0, tracker[i])\n",
    "        p=previous[i]\n",
    "        if tracker[i]==start: break\n",
    "    \n",
    "    print path"
   ]
  },
  {
   "cell_type": "code",
   "execution_count": 15,
   "metadata": {},
   "outputs": [
    {
     "name": "stdout",
     "output_type": "stream",
     "text": [
      "['v', 'r', 's', 'w', 't']\n"
     ]
    }
   ],
   "source": [
    "bfs_paths(G, 'v', 't')"
   ]
  },
  {
   "cell_type": "markdown",
   "metadata": {},
   "source": [
    "#### Given a \"maze\" in the form of a graph, find the path to the exit from a given start\n",
    "This is a very similar problem to the above, ony it is solves with DFS. Use DFS to to span the graph. Use a tracker and a predecessor tracker as above and batrack the path from the \"exit\" to the start, after DFS runs. You can optimise by stopping DFS when \"exit\" is reached"
   ]
  },
  {
   "cell_type": "code",
   "execution_count": null,
   "metadata": {},
   "outputs": [],
   "source": []
  }
 ],
 "metadata": {
  "kernelspec": {
   "display_name": "Python 2",
   "language": "python",
   "name": "python2"
  },
  "language_info": {
   "codemirror_mode": {
    "name": "ipython",
    "version": 2
   },
   "file_extension": ".py",
   "mimetype": "text/x-python",
   "name": "python",
   "nbconvert_exporter": "python",
   "pygments_lexer": "ipython2",
   "version": "2.7.15"
  }
 },
 "nbformat": 4,
 "nbformat_minor": 2
}
