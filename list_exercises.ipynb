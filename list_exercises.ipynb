{
 "cells": [
  {
   "cell_type": "markdown",
   "metadata": {},
   "source": [
    "### Sort a linked list consisting of only 0 and 1 elements, such that all the 0s are before the 1s\n",
    "\n",
    "There are many ways to do this but once you realise you dont need to move the nodes, just the values, this becomes a very easy problem"
   ]
  },
  {
   "cell_type": "code",
   "execution_count": 2,
   "metadata": {},
   "outputs": [
    {
     "name": "stdout",
     "output_type": "stream",
     "text": [
      "0  1  2  3  4  5  size= 6\n",
      "0  10  1  2  3  4  5  size= 7\n",
      "99  0  10  1  2  3  4  5  size= 8\n",
      "99  0  1  2  3  4  5  size= 7\n",
      "10\n",
      "99  60  0  1  2  3  4  5  size= 8\n",
      "60  0  1  2  3  4  5  size= 7\n",
      "60  0  1  2  3  4  size= 6\n",
      "1\n",
      "2\n"
     ]
    }
   ],
   "source": [
    "%run linked_list.ipynb"
   ]
  },
  {
   "cell_type": "code",
   "execution_count": 3,
   "metadata": {},
   "outputs": [
    {
     "name": "stdout",
     "output_type": "stream",
     "text": [
      "list has 49 zeros and 51 ones\n",
      "0  0  0  0  0  0  0  0  0  0  0  0  0  0  0  0  0  0  0  0  0  0  0  0  0  0  0  0  0  0  0  0  0  0  0  0  0  0  0  0  0  0  0  0  0  0  0  0  0  1  1  1  1  1  1  1  1  1  1  1  1  1  1  1  1  1  1  1  1  1  1  1  1  1  1  1  1  1  1  1  1  1  1  1  1  1  1  1  1  1  1  1  1  1  1  1  1  1  1  1  size= 100\n"
     ]
    }
   ],
   "source": [
    "import random\n",
    "\n",
    "zero1 = [0,1]\n",
    "alist = MyLinkedList()\n",
    "for i in range(100):\n",
    "    alist.insert(random.choice(zero1),i)\n",
    "\n",
    "zeros=0\n",
    "ones=0\n",
    "iter8 = alist.head\n",
    "\n",
    "while iter8!=None:\n",
    "    if iter8.val==0: zeros+=1\n",
    "    elif iter8.val==1: ones+=1\n",
    "    iter8 = iter8.next\n",
    "\n",
    "print \"list has\", zeros, \"zeros and\" , ones, \"ones\"    \n",
    "    \n",
    "iter8=alist.head\n",
    "for i in range(0, zeros):\n",
    "    iter8.val=0\n",
    "    iter8 = iter8.next\n",
    "for i in range(zeros, alist.size):\n",
    "    iter8.val=1\n",
    "    iter8 = iter8.next\n",
    "\n",
    "alist.print_list()"
   ]
  },
  {
   "cell_type": "markdown",
   "metadata": {},
   "source": [
    "### Write a function to decide if a list is a palindrome\n",
    "\n",
    "If you reverse the list, it should be the same. You actually just need to check half of it."
   ]
  },
  {
   "cell_type": "code",
   "execution_count": 4,
   "metadata": {},
   "outputs": [],
   "source": [
    "def palindrome(alist):\n",
    "    aiter = alist.head\n",
    "    blist = MyLinkedList()\n",
    "    for i in range(0, alist.size/2):\n",
    "        value=aiter.val\n",
    "        aiter=aiter.next\n",
    "        blist.insert(value,0)\n",
    "\n",
    "    i=0\n",
    "    biter=blist.head\n",
    "    if alist.size%2==1: aiter=aiter.next\n",
    "    while aiter is not None and biter is not None:\n",
    "        if aiter.val==biter.val: i+=1\n",
    "        aiter=aiter.next\n",
    "        biter=biter.next\n",
    "    \n",
    "    if i==alist.size/2: print \"bingo! it's a palindrome!\"\n",
    "    else: print \"not a palindrome\""
   ]
  },
  {
   "cell_type": "code",
   "execution_count": 5,
   "metadata": {},
   "outputs": [
    {
     "name": "stdout",
     "output_type": "stream",
     "text": [
      "6  5  5  6  size= 4\n",
      "bingo! it's a palindrome!\n"
     ]
    }
   ],
   "source": [
    "alist = MyLinkedList()\n",
    "\n",
    "alist.insert(6,0)\n",
    "alist.insert(5,1)\n",
    "alist.insert(5,2)\n",
    "alist.insert(6,3)\n",
    "\n",
    "alist.print_list()\n",
    "palindrome(alist)"
   ]
  },
  {
   "cell_type": "code",
   "execution_count": 6,
   "metadata": {},
   "outputs": [
    {
     "name": "stdout",
     "output_type": "stream",
     "text": [
      "6  5  3  5  6  size= 5\n",
      "bingo! it's a palindrome!\n"
     ]
    }
   ],
   "source": [
    "alist.insert(3,2)\n",
    "alist.print_list()\n",
    "palindrome(alist)"
   ]
  },
  {
   "cell_type": "code",
   "execution_count": 7,
   "metadata": {},
   "outputs": [
    {
     "name": "stdout",
     "output_type": "stream",
     "text": [
      "5  3  5  6  size= 4\n",
      "not a palindrome\n"
     ]
    }
   ],
   "source": [
    "alist.delete(0)\n",
    "alist.print_list()\n",
    "palindrome(alist)"
   ]
  },
  {
   "cell_type": "markdown",
   "metadata": {},
   "source": [
    "### Node-level lists sum### \n",
    "You have two numbers represented by a linked list,where each node contains a single digit. The digits are stored in reverse order,such that the 1's digit is at the head of the list. Write a function that adds the two numbers and returns the sum as a linked list."
   ]
  },
  {
   "cell_type": "raw",
   "metadata": {},
   "source": [
    "EXAMPLE\n",
    "Input: (7-> 1 -> 6) + (5 -> 9 -> 2).That is,617 + 295. Output:2 -> 1 -> 9.Thatis,912."
   ]
  },
  {
   "cell_type": "code",
   "execution_count": 8,
   "metadata": {},
   "outputs": [],
   "source": [
    "def add_lists(list1, list2):\n",
    "    assert (alist.head!=None or blist.head!=None), \"Both lists empty\"\n",
    "    size1 = list1.size\n",
    "    size2 = list2.size\n",
    "    maxsize=max(size1, size2)\n",
    "    result=MyLinkedList()\n",
    "\n",
    "    iter1 = list1.head\n",
    "    iter2 = list2.head\n",
    "\n",
    "    i=0\n",
    "    j=0\n",
    "    k=0\n",
    "\n",
    "    carrier=0\n",
    "    while k<maxsize:\n",
    "        if i>=list1.size: valuea=0 \n",
    "        else: valuea=iter1.val\n",
    "        if j>=list2.size: valueb=0 \n",
    "        else: valueb=iter2.val\n",
    "\n",
    "        sumnum = valuea+valueb+carrier\n",
    "        resultvalue = sumnum%10\n",
    "\n",
    "        result.append(resultvalue)\n",
    "\n",
    "        if sumnum>9: carrier=1\n",
    "        else: carrier=0\n",
    "\n",
    "        if i<list1.size: \n",
    "            iter1 = iter1.next\n",
    "            i+=1\n",
    "\n",
    "        if j<list2.size: \n",
    "            iter2 = iter2.next\n",
    "            j+=1\n",
    "\n",
    "        k+=1\n",
    "    if carrier==1: result.append(1) #if last element is >9, you need to add a final 1\n",
    "    result.print_list()"
   ]
  },
  {
   "cell_type": "code",
   "execution_count": 9,
   "metadata": {},
   "outputs": [
    {
     "name": "stdout",
     "output_type": "stream",
     "text": [
      "5  1  8  3  size= 4\n",
      "9  1  9  size= 3\n"
     ]
    }
   ],
   "source": [
    "alist=MyLinkedList()\n",
    "blist=MyLinkedList()\n",
    "alist.insert(3,0)\n",
    "alist.insert(8,0)\n",
    "alist.insert(1,0)\n",
    "alist.insert(5,0)\n",
    "alist.print_list()\n",
    "blist.insert(9,0)\n",
    "blist.insert(1,0)\n",
    "blist.insert(9,0)\n",
    "blist.print_list()"
   ]
  },
  {
   "cell_type": "code",
   "execution_count": 10,
   "metadata": {},
   "outputs": [
    {
     "name": "stdout",
     "output_type": "stream",
     "text": [
      "4  3  7  4  size= 4\n"
     ]
    }
   ],
   "source": [
    "add_lists(alist,blist)"
   ]
  },
  {
   "cell_type": "markdown",
   "metadata": {},
   "source": [
    "### Follow up:### \n",
    "Suppose the digits are stored in forward order. Repeat the above problem. "
   ]
  },
  {
   "cell_type": "raw",
   "metadata": {},
   "source": [
    "Example: Input: (6 -> 1 -> 7) + (2 -> 9 -> 5).Thatis,617 + 295. Output:9 ->1 ->2.Thatis,912."
   ]
  },
  {
   "cell_type": "code",
   "execution_count": 11,
   "metadata": {},
   "outputs": [],
   "source": [
    "def add_lists2(list1, list2):\n",
    "    result=MyLinkedList()\n",
    "\n",
    "    i=list1.size\n",
    "    j=list2.size\n",
    "\n",
    "    this1 = list1.access_previous(i)\n",
    "    this2 = list2.access_previous(j)\n",
    "\n",
    "    maxsize=max(i,j)\n",
    "\n",
    "    carrier=0\n",
    "\n",
    "    while i>0 or j>0:\n",
    "        this1 = list1.access_previous(i)\n",
    "        this2 = list2.access_previous(j)\n",
    "        i-=1\n",
    "        j-=1\n",
    "\n",
    "        if i>=0: value1=this1.val\n",
    "        else: value=0\n",
    "        if j>=0: value2=this2.val\n",
    "        else: value2 =0   \n",
    "\n",
    "        sumnum = value1+value2+carrier\n",
    "        resultvalue = sumnum%10\n",
    "\n",
    "        result.insert(resultvalue, 0)\n",
    "\n",
    "        if sumnum>9: carrier=1\n",
    "        else: carrier=0\n",
    "    if carrier==1: result.insert(1,0)\n",
    "    result.print_list()"
   ]
  },
  {
   "cell_type": "code",
   "execution_count": 12,
   "metadata": {},
   "outputs": [
    {
     "name": "stdout",
     "output_type": "stream",
     "text": [
      "5  1  8  3  size= 4\n",
      "9  1  9  size= 3\n"
     ]
    }
   ],
   "source": [
    "alist=MyLinkedList()\n",
    "blist=MyLinkedList()\n",
    "alist.insert(3,0)\n",
    "alist.insert(8,0)\n",
    "alist.insert(1,0)\n",
    "alist.insert(5,0)\n",
    "alist.print_list()\n",
    "blist.insert(9,0)\n",
    "blist.insert(1,0)\n",
    "blist.insert(9,0)\n",
    "blist.print_list()"
   ]
  },
  {
   "cell_type": "code",
   "execution_count": 13,
   "metadata": {},
   "outputs": [
    {
     "name": "stdout",
     "output_type": "stream",
     "text": [
      "6  1  0  2  size= 4\n"
     ]
    }
   ],
   "source": [
    "add_lists2(alist,blist)"
   ]
  }
 ],
 "metadata": {
  "kernelspec": {
   "display_name": "Python 2",
   "language": "python",
   "name": "python2"
  },
  "language_info": {
   "codemirror_mode": {
    "name": "ipython",
    "version": 2
   },
   "file_extension": ".py",
   "mimetype": "text/x-python",
   "name": "python",
   "nbconvert_exporter": "python",
   "pygments_lexer": "ipython2",
   "version": "2.7.15"
  }
 },
 "nbformat": 4,
 "nbformat_minor": 2
}
