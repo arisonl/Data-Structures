{
 "cells": [
  {
   "cell_type": "markdown",
   "metadata": {},
   "source": [
    "## Recursion"
   ]
  },
  {
   "cell_type": "markdown",
   "metadata": {},
   "source": [
    "#### Calculate the factorial of a number recursively"
   ]
  },
  {
   "cell_type": "code",
   "execution_count": 167,
   "metadata": {},
   "outputs": [],
   "source": [
    "def factorial(x):\n",
    "    if x==0: return 1\n",
    "    else: return x*factorial(x-1)"
   ]
  },
  {
   "cell_type": "code",
   "execution_count": 168,
   "metadata": {},
   "outputs": [
    {
     "data": {
      "text/plain": [
       "24"
      ]
     },
     "execution_count": 168,
     "metadata": {},
     "output_type": "execute_result"
    }
   ],
   "source": [
    "factorial(4)"
   ]
  },
  {
   "cell_type": "markdown",
   "metadata": {},
   "source": [
    "#### Recursive Multiply: Write a recursive function to multiply two positive integers without using the * or / operators."
   ]
  },
  {
   "cell_type": "code",
   "execution_count": 169,
   "metadata": {},
   "outputs": [],
   "source": [
    "def mul(a,b):\n",
    "    if b==1: return a\n",
    "    else: \n",
    "        return a+mul(a,b-1)"
   ]
  },
  {
   "cell_type": "code",
   "execution_count": 170,
   "metadata": {},
   "outputs": [
    {
     "data": {
      "text/plain": [
       "40"
      ]
     },
     "execution_count": 170,
     "metadata": {},
     "output_type": "execute_result"
    }
   ],
   "source": [
    "mul(5,8)"
   ]
  },
  {
   "cell_type": "markdown",
   "metadata": {},
   "source": [
    "#### Calculate the i-th Fibonacci number recursively\n",
    "\n",
    "The Fibonacci sequence: 0,1,1,2,3,5,8,13,21,34,..."
   ]
  },
  {
   "cell_type": "code",
   "execution_count": 171,
   "metadata": {},
   "outputs": [],
   "source": [
    "def fibonacci(x):\n",
    "    if x==0: return 0\n",
    "    if x==1: return 1\n",
    "    else: return fibonacci(x-1)+fibonacci(x-2)"
   ]
  },
  {
   "cell_type": "code",
   "execution_count": 172,
   "metadata": {},
   "outputs": [
    {
     "data": {
      "text/plain": [
       "21"
      ]
     },
     "execution_count": 172,
     "metadata": {},
     "output_type": "execute_result"
    }
   ],
   "source": [
    "fibonacci(8)"
   ]
  },
  {
   "cell_type": "markdown",
   "metadata": {},
   "source": [
    "#### Implement the binary search algorithm to locate a string's index in a list of sorted strings in O(logN)"
   ]
  },
  {
   "cell_type": "code",
   "execution_count": 173,
   "metadata": {},
   "outputs": [],
   "source": [
    "def binary_search(alist, key, mem): #use mem to remember the index of the split at every step of the recusrion\n",
    "    size=len(alist)\n",
    "    indexes=[i for i in range (0,size)]\n",
    "    split=size/2   \n",
    "    if alist[split]>key and size!=1: \n",
    "        print alist[:split]\n",
    "        return binary_search(alist[:split], key, mem)\n",
    "    if alist[split]<key and size!=1: \n",
    "        mem=mem+split #you use the upper sub list, add the index of the split \n",
    "        print alist[split:]\n",
    "        return binary_search(alist[split:], key, mem)\n",
    "    if alist[split]==key: return mem+split #again you need to add the index of the split\n",
    "    if alist[split]!=key: \n",
    "        print \"Key not present. You can insert at position: \" + str(mem+split+1) #binary insertion point\n",
    "        return False"
   ]
  },
  {
   "cell_type": "code",
   "execution_count": 174,
   "metadata": {},
   "outputs": [
    {
     "name": "stdout",
     "output_type": "stream",
     "text": [
      "['a', 'b', 'd']\n",
      "['b', 'd']\n",
      "['b']\n",
      "Key not present. You can insert at position: 2\n"
     ]
    },
    {
     "data": {
      "text/plain": [
       "False"
      ]
     },
     "execution_count": 174,
     "metadata": {},
     "output_type": "execute_result"
    }
   ],
   "source": [
    "alist = ['a','b','d','e','f','g']\n",
    "binarySearch(alist, 'c', 0)"
   ]
  },
  {
   "cell_type": "markdown",
   "metadata": {},
   "source": [
    "#### Triple Step: A child is running up a staircase with n steps and can hop either 1 step, 2 steps, or 3 steps at a time. Implement a method to count how many possible ways the child can run up the stairs."
   ]
  },
  {
   "cell_type": "code",
   "execution_count": 175,
   "metadata": {},
   "outputs": [],
   "source": [
    "def ways(n):\n",
    "    if n==1: return 1\n",
    "    if n==2: return 2\n",
    "    if n==3: return 3\n",
    "    else: return ways(n-1)+ways(n-2)+ways(n-3)"
   ]
  },
  {
   "cell_type": "code",
   "execution_count": 176,
   "metadata": {},
   "outputs": [
    {
     "data": {
      "text/plain": [
       "6"
      ]
     },
     "execution_count": 176,
     "metadata": {},
     "output_type": "execute_result"
    }
   ],
   "source": [
    "ways(4)"
   ]
  },
  {
   "cell_type": "markdown",
   "metadata": {},
   "source": [
    "#### Robot in a Grid: Imagine a robot sitting on the upper left corner of grid with r rows and c columns. The robot can only move in two directions, right and down, but certain cells are \"off limits\" such that the robot cannot step on them. Design an algorithm to find a path for the robot from the top left to the bottom right."
   ]
  },
  {
   "cell_type": "code",
   "execution_count": 177,
   "metadata": {},
   "outputs": [],
   "source": [
    "import random\n",
    "def robot(a, i, j):\n",
    "    rows = len(a)\n",
    "    cols = len(a[0])\n",
    "    position = \"[\" + str(i) + \",\" + str(j) + \"]\"\n",
    "    \n",
    "    #if the next move is within boundaries in either dimension:\n",
    "    if i+1<rows and j+1<cols:\n",
    "        \n",
    "        #if both moves are possible and of equal cost, randomise next step:\n",
    "        if a[i+1][j]==a[i][j+1] and a[i+1][j]!=9 and a[i][j+1]!=9: \n",
    "            coin = random.choice([True, False])\n",
    "            if (coin==True): return position + str(robot(a,i+1,j))\n",
    "            if (coin==False): return position + str(robot(a,i,j+1))\n",
    "        \n",
    "        #if both positions are possible and one is better than the other (additional feature):\n",
    "        if a[i+1][j]<a[i][j+1]: return position + str(robot(a,i+1,j))\n",
    "        if a[i][j+1]<a[i+1][j]: return position + str(robot(a,i,j+1))\n",
    "    \n",
    "    #else if only one of the two positions is within boudaries and feasible:\n",
    "    if i+1<rows and a[i+1][j]!=9: return position + str(robot(a,i+1,j))\n",
    "    if j+1<cols and a[i][j+1]!=9: return position + str(robot(a,i,j+1))\n",
    "    \n",
    "    #happy base cases:\n",
    "    if i<rows and a[i][j]==0: return position + \" success :)\"\n",
    "    if j<cols and a[i][j]==0: return position + \" success :)\"\n",
    "    \n",
    "    #else if the robot is stuck, mark the position as impossible if it was allowed by the terrain and retry\n",
    "    if a[i][j]!=9: \n",
    "        a[i][j]=9\n",
    "        return position + \" restarting \" + robot(a,0,0)\n",
    "    \n",
    "    #unhappy base case\n",
    "    return position + \" no route :O \""
   ]
  },
  {
   "cell_type": "code",
   "execution_count": 178,
   "metadata": {},
   "outputs": [],
   "source": [
    "terrain=[[1,1,9,1,1,1,1],\n",
    "         [1,1,9,1,1,1,1],\n",
    "         [1,9,9,1,1,1,1],\n",
    "         [1,1,1,1,1,1,0]]"
   ]
  },
  {
   "cell_type": "code",
   "execution_count": 179,
   "metadata": {},
   "outputs": [
    {
     "data": {
      "text/plain": [
       "'[0,0][1,0][2,0][3,0][3,1][3,2][3,3][3,4][3,5][3,6] success :)'"
      ]
     },
     "execution_count": 179,
     "metadata": {},
     "output_type": "execute_result"
    }
   ],
   "source": [
    "robot(terrain, 0, 0)"
   ]
  },
  {
   "cell_type": "code",
   "execution_count": 180,
   "metadata": {},
   "outputs": [],
   "source": [
    "terrain=[[1,1,1,9,1,1,1],\n",
    "         [1,1,1,9,1,1,1],\n",
    "         [1,1,1,9,1,1,1],\n",
    "         [1,1,1,9,1,1,0]]"
   ]
  },
  {
   "cell_type": "code",
   "execution_count": 181,
   "metadata": {},
   "outputs": [
    {
     "data": {
      "text/plain": [
       "'[0,0][1,0][2,0][3,0][3,1][3,2] restarting [0,0][0,1][1,1][2,1][2,2] restarting [0,0][1,0][2,0][3,0][3,1] restarting [0,0][1,0][1,1][1,2] restarting [0,0][1,0][1,1][2,1] restarting [0,0][0,1][1,1] restarting [0,0][0,1][0,2] restarting [0,0][0,1] restarting [0,0][1,0][2,0][3,0] restarting [0,0][1,0][2,0] restarting [0,0][1,0] restarting [0,0] restarting [0,0] no route :O '"
      ]
     },
     "execution_count": 181,
     "metadata": {},
     "output_type": "execute_result"
    }
   ],
   "source": [
    "robot(terrain, 0, 0)"
   ]
  },
  {
   "cell_type": "code",
   "execution_count": 182,
   "metadata": {},
   "outputs": [
    {
     "ename": "SyntaxError",
     "evalue": "non-keyword arg after keyword arg (<ipython-input-182-5249ec39e48e>, line 5)",
     "output_type": "error",
     "traceback": [
      "\u001b[0;36m  File \u001b[0;32m\"<ipython-input-182-5249ec39e48e>\"\u001b[0;36m, line \u001b[0;32m5\u001b[0m\n\u001b[0;31m    return perm(alist=alist[1:],alist[0])\u001b[0m\n\u001b[0;31mSyntaxError\u001b[0m\u001b[0;31m:\u001b[0m non-keyword arg after keyword arg\n"
     ]
    }
   ],
   "source": [
    "def perm(alist,b):\n",
    "    s=len(alist)\n",
    "    if s==1: return alist\n",
    "    \n",
    "    return perm(alist=alist[1:],alist[0])\n",
    "perm(\"a\")"
   ]
  },
  {
   "cell_type": "code",
   "execution_count": null,
   "metadata": {},
   "outputs": [],
   "source": []
  }
 ],
 "metadata": {
  "kernelspec": {
   "display_name": "Python 2",
   "language": "python",
   "name": "python2"
  },
  "language_info": {
   "codemirror_mode": {
    "name": "ipython",
    "version": 2
   },
   "file_extension": ".py",
   "mimetype": "text/x-python",
   "name": "python",
   "nbconvert_exporter": "python",
   "pygments_lexer": "ipython2",
   "version": "2.7.15"
  }
 },
 "nbformat": 4,
 "nbformat_minor": 2
}
