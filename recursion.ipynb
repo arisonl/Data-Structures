{
 "cells": [
  {
   "cell_type": "markdown",
   "metadata": {},
   "source": [
    "# Recursion"
   ]
  },
  {
   "cell_type": "markdown",
   "metadata": {},
   "source": [
    "This is probably the hardest notebook in the tutorial. You may want to use the Python visualiser to understand recusrion better: http://www.pythontutor.com/"
   ]
  },
  {
   "cell_type": "markdown",
   "metadata": {},
   "source": [
    "#### Explain recursion to a ten year-old\n",
    "Imagine a line of blind folded people and an outside requester who asks them to find out how many people they are in the line. How can they find out? The initiator asks the last person at the very back of the line. So she starts the process by asking the person in front of her how many people are in front of him. Of course he has no clue because he is blindfolded, so in turn he asks the person in front of him. This carries on until the first person is reached and she reaches out to tap the person in front of her, only to realise that there is no one there and so she answers: \"zero\". The person who asked her then responds \"one\" and so on until the person at the back who started it all gets her answer. She adds one to the answer and responds the requester.\n",
    "\n",
    "`where_in_line(person):\n",
    "    if person.person_in_front == None: position = 1;\n",
    "    position = where_in_line(person.person_in_front) + 1;\n",
    "    return position;`"
   ]
  },
  {
   "cell_type": "markdown",
   "metadata": {},
   "source": [
    "## Recursive Patterns:\n",
    "\n",
    "### Types of recursion:\n",
    "1. **Structural recursion:** Data and structures with self-referential definitions where recursion is natural, e.g. natural numbers (see exercises 1 and 2 below), linked lists (see exercises 9 an 10 below) and binary trees (see the binary search trees notebook). Example problems on linked lists: perform an operation on each element of the list, keep some elements of the list and throw others, summarise the list in some way (e.g. sum, max etc).\n",
    "2. **Generative recursion:** Rearrange a problem into a set of several problems, solve those, and combine their solutions into one overall solution. Often some of these newly generated problems are the same kind of problem as the given one, in which case the algorithm can be reused to solve them. In these cases, the algorithm is recursive, but its recursion uses newly generated data not immediate parts of the input data. Usually generative recursion is more ad-hoc and we need to be creative. Example problems:\n",
    "   * Sort and search: Merge sort and quick sort (see the sorting notebook and exercise 5 below)\n",
    "   * Backtracking: String permutations and maze traversing (see exercise 8 below)\n",
    "   * Dynamic programming\n",
    "\n",
    "**Structural recursion template for lists:**<br/>\n",
    "`define function(list):\n",
    "    if the list is empty: base case\n",
    "    else:\n",
    "        first in the list\n",
    "        function(rest of list)\n",
    "`\n",
    "\n",
    "**Generative recursion template:**<br/>\n",
    "`define function(problem):\n",
    "    if trvially solvable problem: compute solvable problem\n",
    "    else:\n",
    "        combine:\n",
    "            function (sub-problem-1)\n",
    "            function (sub-problem-2)\n",
    "            ...\n",
    "            function (sub-problem-n)\n",
    "`"
   ]
  },
  {
   "cell_type": "markdown",
   "metadata": {},
   "source": [
    "### Nomenclatures:\n",
    "\n",
    "#### Returning values:\n",
    "1. Build the result in the return statement. This is an extremely common pattern. We will use this pattern in the factorial, multiplication and Fibonacci problems next.\n",
    "2. Keep the result in a function argument aka the accumulator.\n",
    "3. Keep values in a variable which is passed as an argument, like memory.\n",
    "4. Accumulate the value in a \"global\" variable (probably the most difficult to grasp). Each stack frame keeps its own local variable and the values get accumulated. We will show this pattern in the increment problem next.\n",
    "\n",
    "#### Returning vs not returning values:\n",
    "Not all recursions need to return a value. The decision is not recusrion specific, rather it is the same as in non-recursive functions. If the function returns a value (rule of thumb: if the base case returns a value) then the recursive calls are preceeded by the `return` statement. In contrast, if the function is not returning a value, e.g. when you need to traverse or print a list, a tree etc. or do other side or helper ops (see for example Merge Sort), you do not need to return a value.\n",
    "\n",
    "#### Inner and helper functions:\n",
    "- When you need to traverse a data structure and then do something else that depends on the object in the initial call (e.g. reverse a linked list in place and do something else afterwards) you can define an inner function that’s recursive inside of a non-recursive function. The convention is to name this inner function the same thing as the outer function, with an underscore at the beginning. \n",
    "- The other side of the same coin, we can define a helper function to be called from within the recusrive function in order to black-box certain repititive ops part of the algorithm. For example in the in-place Quick Sort (see the Advanced Sorting notebook), the helper function manipulates the list and returns it to the recursive function which keeps it in its stack frame. You will note that because of this, the recursive function performs side ops and does not need to return.\n",
    "\n",
    "#### Head and tail recursion:\n",
    "- In tail recursion, the recursive call is the last thing executed in the function. Tail recursion is similar to a loop.\n",
    "- In a head call, the recursive call happens earlier and other ops are performed once it returns. Each recursive stack frame retains its own state."
   ]
  },
  {
   "cell_type": "markdown",
   "metadata": {},
   "source": [
    "### Exercises\n",
    "#### 1. Calculate the factorial of a number recursively "
   ]
  },
  {
   "cell_type": "code",
   "execution_count": 1,
   "metadata": {},
   "outputs": [],
   "source": [
    "def factorial(x):\n",
    "    if x==0: return 1\n",
    "    return x*factorial(x-1)"
   ]
  },
  {
   "cell_type": "code",
   "execution_count": 2,
   "metadata": {},
   "outputs": [
    {
     "data": {
      "text/plain": [
       "24"
      ]
     },
     "execution_count": 2,
     "metadata": {},
     "output_type": "execute_result"
    }
   ],
   "source": [
    "factorial(4)"
   ]
  },
  {
   "cell_type": "markdown",
   "metadata": {},
   "source": [
    "The call stack:<br>\n",
    "`factorial(4):\n",
    "    factorial(3):\n",
    "        factorial(2):\n",
    "            factorial(1):\n",
    "                factorial(0): #Last In\n",
    "                    return 1  #First Out\n",
    "                return 1*1\n",
    "            return 2*1\n",
    "        return 3*2*1\n",
    "    return 4*3*2*1`<br>\n",
    "Note: No multiplication is performed until the stack gets popped."
   ]
  },
  {
   "cell_type": "markdown",
   "metadata": {},
   "source": [
    "#### 2. Recursive Multiply: Write a recursive function to multiply two positive integers without using the * or / operators.\n"
   ]
  },
  {
   "cell_type": "code",
   "execution_count": 3,
   "metadata": {},
   "outputs": [],
   "source": [
    "def mul(a,b):\n",
    "    if b==1: return a\n",
    "    return a+mul(a,b-1)"
   ]
  },
  {
   "cell_type": "code",
   "execution_count": 4,
   "metadata": {},
   "outputs": [
    {
     "data": {
      "text/plain": [
       "40"
      ]
     },
     "execution_count": 4,
     "metadata": {},
     "output_type": "execute_result"
    }
   ],
   "source": [
    "mul(5,8)"
   ]
  },
  {
   "cell_type": "markdown",
   "metadata": {},
   "source": [
    "#### 3. Calculate the i-th Fibonacci number recursively\n",
    "\n",
    "The Fibonacci sequence: 0,1,1,2,3,5,8,13,21,34,... "
   ]
  },
  {
   "cell_type": "code",
   "execution_count": 5,
   "metadata": {},
   "outputs": [],
   "source": [
    "def fibonacci(x):\n",
    "    if x==0: return 0\n",
    "    if x==1: return 1\n",
    "    return fibonacci(x-1)+fibonacci(x-2)"
   ]
  },
  {
   "cell_type": "code",
   "execution_count": 6,
   "metadata": {},
   "outputs": [
    {
     "data": {
      "text/plain": [
       "21"
      ]
     },
     "execution_count": 6,
     "metadata": {},
     "output_type": "execute_result"
    }
   ],
   "source": [
    "fibonacci(8)"
   ]
  },
  {
   "cell_type": "markdown",
   "metadata": {},
   "source": [
    "#### 4. Explain why the following two implementations return a different result"
   ]
  },
  {
   "cell_type": "code",
   "execution_count": 2,
   "metadata": {},
   "outputs": [],
   "source": [
    "def increment1(i):\n",
    "    if (i==5): return i\n",
    "    increment1(i+1)\n",
    "    return i"
   ]
  },
  {
   "cell_type": "code",
   "execution_count": 3,
   "metadata": {},
   "outputs": [],
   "source": [
    "def increment2(i):\n",
    "    if (i==5): return i\n",
    "    return increment2(i+1)"
   ]
  },
  {
   "cell_type": "code",
   "execution_count": 4,
   "metadata": {},
   "outputs": [
    {
     "data": {
      "text/plain": [
       "0"
      ]
     },
     "execution_count": 4,
     "metadata": {},
     "output_type": "execute_result"
    }
   ],
   "source": [
    "increment1(0)"
   ]
  },
  {
   "cell_type": "code",
   "execution_count": 5,
   "metadata": {},
   "outputs": [
    {
     "data": {
      "text/plain": [
       "5"
      ]
     },
     "execution_count": 5,
     "metadata": {},
     "output_type": "execute_result"
    }
   ],
   "source": [
    "increment2(0)"
   ]
  },
  {
   "cell_type": "markdown",
   "metadata": {},
   "source": [
    "In the call stack of the first version, each call has its own copy of variable i. Here is the call stack:\n",
    "\n",
    "`increment1: i=5\n",
    "increment1: i=4\n",
    "increment1: i=3\n",
    "increment1: i=2\n",
    "increment1: i=1\n",
    "increment1: i=0`\n",
    "\n",
    "When the top call is able to return a value, it returns 5 to the call below it, which returns 4 to the call below it and so on. Each call having its own copy, the root call returns its copy, which is zero.\n",
    "\n",
    "In the call stack of the second version, each call is passing the value of the call above it. 5 being the value of the last call, 5 is passed down the stack and returned."
   ]
  },
  {
   "cell_type": "markdown",
   "metadata": {},
   "source": [
    "Now, observe how the behaviour changes according to nomenvlature #4 mentioned above. We control the recursion with `i`, and we accumulate on `c`. `c` is a local variable which is also initialised to 1, but we are able to accumulate by adding to it what the previous frame returns."
   ]
  },
  {
   "cell_type": "code",
   "execution_count": 6,
   "metadata": {},
   "outputs": [],
   "source": [
    "def increment3(i):\n",
    "    if (i==5): return 0\n",
    "    c=1\n",
    "    c+=increment3(i+1)\n",
    "    return c"
   ]
  },
  {
   "cell_type": "code",
   "execution_count": 7,
   "metadata": {},
   "outputs": [
    {
     "data": {
      "text/plain": [
       "5"
      ]
     },
     "execution_count": 7,
     "metadata": {},
     "output_type": "execute_result"
    }
   ],
   "source": [
    "increment3(0)"
   ]
  },
  {
   "cell_type": "markdown",
   "metadata": {},
   "source": [
    "#### 5. Implement the binary search algorithm to locate a string's index in a list of sorted strings in O(logN)\n"
   ]
  },
  {
   "cell_type": "code",
   "execution_count": 13,
   "metadata": {},
   "outputs": [],
   "source": [
    "def binary_search(alist, key, mem): #use mem to remember the index of the split at every step of the recusrion\n",
    "    size=len(alist)\n",
    "    split=size/2   \n",
    "    if alist[split]==key: return mem+split #base case. you need to add the index of the split, see below\n",
    "    if key<alist[split] and size!=1: \n",
    "        print alist[:split]\n",
    "        return binary_search(alist[:split], key, mem)\n",
    "    if key>alist[split] and size!=1: \n",
    "        mem=mem+split #you use the upper sub list, add the index of the split \n",
    "        print alist[split:]\n",
    "        return binary_search(alist[split:], key, mem)\n",
    "    if alist[split]!=key: \n",
    "        print \"Key not present. You can insert at position:\" , mem+split+1 #binary insertion point\n",
    "        return False"
   ]
  },
  {
   "cell_type": "code",
   "execution_count": 12,
   "metadata": {},
   "outputs": [
    {
     "name": "stdout",
     "output_type": "stream",
     "text": [
      "['a', 'b', 'd']\n",
      "['b', 'd']\n",
      "['b']\n",
      "Key not present. You can insert at position: 2\n"
     ]
    },
    {
     "data": {
      "text/plain": [
       "False"
      ]
     },
     "execution_count": 12,
     "metadata": {},
     "output_type": "execute_result"
    }
   ],
   "source": [
    "alist = ['a','b','d','e','f','g']\n",
    "binary_search(alist, 'c', 0)"
   ]
  },
  {
   "cell_type": "markdown",
   "metadata": {},
   "source": [
    "#### 6. Triple Step: A child is running up a staircase with n steps and can hop either 1 step, 2 steps, or 3 steps at a time. Implement a method to count how many possible ways the child can run up the stairs."
   ]
  },
  {
   "cell_type": "code",
   "execution_count": 11,
   "metadata": {},
   "outputs": [],
   "source": [
    "def ways(n):\n",
    "    if n==1: return 1 #remaining steps 1 -> 1 way\n",
    "    if n==2: return 2 #remaining steps 2 -> 2 ways\n",
    "    if n==3: return 3 #remaining steps 3 -> 3 ways\n",
    "    return ways(n-1)+ways(n-2)+ways(n-3)"
   ]
  },
  {
   "cell_type": "code",
   "execution_count": 13,
   "metadata": {},
   "outputs": [
    {
     "data": {
      "text/plain": [
       "68"
      ]
     },
     "execution_count": 13,
     "metadata": {},
     "output_type": "execute_result"
    }
   ],
   "source": [
    "ways(8)"
   ]
  },
  {
   "cell_type": "markdown",
   "metadata": {},
   "source": [
    "#### 7. Robot in a Grid: Imagine a robot sitting on the upper left corner of grid with r rows and c columns. The robot can only move in two directions, right and down, but certain cells are \"off limits\" such that the robot cannot step on them. Design an algorithm to find a path for the robot from the top left to the bottom right."
   ]
  },
  {
   "cell_type": "code",
   "execution_count": 17,
   "metadata": {},
   "outputs": [],
   "source": [
    "import random\n",
    "def robot(a, i, j):\n",
    "    rows = len(a)\n",
    "    cols = len(a[0])\n",
    "    position = \"[\" + str(i) + \",\" + str(j) + \"]\"\n",
    "    \n",
    "    #if the next move is within boundaries in either dimension:\n",
    "    if i+1<rows and j+1<cols:\n",
    "        \n",
    "        #if both moves are possible and of equal cost, randomise next step:\n",
    "        if a[i+1][j]==a[i][j+1] and a[i+1][j]!=9 and a[i][j+1]!=9: \n",
    "            coin = random.choice([True, False])\n",
    "            if (coin==True): return position + str(robot(a,i+1,j))\n",
    "            if (coin==False): return position + str(robot(a,i,j+1))\n",
    "        \n",
    "        #if both positions are possible and one is better than the other (additional feature):\n",
    "        if a[i+1][j]<a[i][j+1]: return position + str(robot(a,i+1,j))\n",
    "        if a[i][j+1]<a[i+1][j]: return position + str(robot(a,i,j+1))\n",
    "    \n",
    "    #else if only one of the two positions is within boudaries and feasible:\n",
    "    if i+1<rows and a[i+1][j]!=9: return position + str(robot(a,i+1,j))\n",
    "    if j+1<cols and a[i][j+1]!=9: return position + str(robot(a,i,j+1))\n",
    "    \n",
    "    #happy base cases:\n",
    "    if i<rows and a[i][j]==0: return position + \" success :)\"\n",
    "    if j<cols and a[i][j]==0: return position + \" success :)\"\n",
    "    \n",
    "    #else if the robot is stuck, mark the position as impossible if it was allowed by the terrain and retry\n",
    "    if a[i][j]!=9: \n",
    "        a[i][j]=9\n",
    "        return position + \" restarting \" + robot(a,0,0)\n",
    "    \n",
    "    #unhappy base case\n",
    "    return position + \" no route :O \""
   ]
  },
  {
   "cell_type": "code",
   "execution_count": 18,
   "metadata": {},
   "outputs": [],
   "source": [
    "terrain=[[1,1,9,1,1,1,1],\n",
    "         [1,1,9,1,1,1,1],\n",
    "         [1,9,9,1,1,1,1],\n",
    "         [1,1,1,1,1,1,0]]"
   ]
  },
  {
   "cell_type": "code",
   "execution_count": 19,
   "metadata": {},
   "outputs": [
    {
     "data": {
      "text/plain": [
       "'[0,0][1,0][2,0][3,0][3,1][3,2][3,3][3,4][3,5][3,6] success :)'"
      ]
     },
     "execution_count": 19,
     "metadata": {},
     "output_type": "execute_result"
    }
   ],
   "source": [
    "robot(terrain, 0, 0)"
   ]
  },
  {
   "cell_type": "code",
   "execution_count": 20,
   "metadata": {},
   "outputs": [],
   "source": [
    "terrain=[[1,1,1,9,1,1,1],\n",
    "         [1,1,1,9,1,1,1],\n",
    "         [1,1,1,9,1,1,1],\n",
    "         [1,1,1,9,1,1,0]]"
   ]
  },
  {
   "cell_type": "code",
   "execution_count": 21,
   "metadata": {},
   "outputs": [
    {
     "data": {
      "text/plain": [
       "'[0,0][1,0][1,1][2,1][3,1][3,2] restarting [0,0][1,0][2,0][3,0][3,1] restarting [0,0][1,0][1,1][2,1][2,2] restarting [0,0][1,0][2,0][3,0] restarting [0,0][0,1][1,1][1,2] restarting [0,0][1,0][2,0][2,1] restarting [0,0][1,0][2,0] restarting [0,0][1,0][1,1] restarting [0,0][0,1][0,2] restarting [0,0][1,0] restarting [0,0][0,1] restarting [0,0] restarting [0,0] no route :O '"
      ]
     },
     "execution_count": 21,
     "metadata": {},
     "output_type": "execute_result"
    }
   ],
   "source": [
    "robot(terrain, 0, 0)"
   ]
  },
  {
   "cell_type": "markdown",
   "metadata": {},
   "source": [
    "#### 8. Given a string, print all permutations of the string. You can assume the string does not have any duplicate characters\n",
    "<img src=\"Graphics/perms.png\" width=\"70%\" align=\"left\">"
   ]
  },
  {
   "cell_type": "code",
   "execution_count": 22,
   "metadata": {},
   "outputs": [],
   "source": [
    "def to_string(alist):\n",
    "    astr = ''.join(alist)\n",
    "    return astr\n",
    "\n",
    "def permute(a, l, r): # l and r are the left and right index of the sub-string to be permuted\n",
    "    if l==r:\n",
    "        print to_string(a)\n",
    "    else:\n",
    "        for i in xrange(l,r+1): # fixing the i-the letter\n",
    "            a[l], a[i] = a[i], a[l]\n",
    "            permute(a, l+1, r) # the string is fixed up to the l-th position\n",
    "            a[l], a[i] = a[i], a[l] # backtrack: restore the original configuration at the start of this permutation"
   ]
  },
  {
   "cell_type": "code",
   "execution_count": 23,
   "metadata": {},
   "outputs": [
    {
     "name": "stdout",
     "output_type": "stream",
     "text": [
      "abcd\n",
      "abdc\n",
      "acbd\n",
      "acdb\n",
      "adcb\n",
      "adbc\n",
      "bacd\n",
      "badc\n",
      "bcad\n",
      "bcda\n",
      "bdca\n",
      "bdac\n",
      "cbad\n",
      "cbda\n",
      "cabd\n",
      "cadb\n",
      "cdab\n",
      "cdba\n",
      "dbca\n",
      "dbac\n",
      "dcba\n",
      "dcab\n",
      "dacb\n",
      "dabc\n"
     ]
    }
   ],
   "source": [
    "alist=['a','b','c','d']\n",
    "size=len(alist)\n",
    "permute(alist, 0, size-1)"
   ]
  },
  {
   "cell_type": "markdown",
   "metadata": {},
   "source": [
    "The algorithm is `O(N * N!)`: N! permutations and O(N) time to print each."
   ]
  },
  {
   "cell_type": "markdown",
   "metadata": {},
   "source": [
    "#### 9. Traverse a linked list recursively\n",
    "#### 10. Follow up: Reverse the linked lists recursively in-place\n",
    "The same problem (the follow-up) is solved in the linked lists practice notebook iteratively"
   ]
  },
  {
   "cell_type": "code",
   "execution_count": 24,
   "metadata": {},
   "outputs": [
    {
     "name": "stdout",
     "output_type": "stream",
     "text": [
      "0  1  2  3  4  5  size= 6\n",
      "0  10  1  2  3  4  5  size= 7\n",
      "99  0  10  1  2  3  4  5  size= 8\n",
      "99  0  1  2  3  4  5  size= 7\n",
      "10\n",
      "99  60  0  1  2  3  4  5  size= 8\n",
      "60  0  1  2  3  4  5  size= 7\n",
      "60  0  1  2  3  4  size= 6\n",
      "1\n",
      "2\n"
     ]
    }
   ],
   "source": [
    "%run linked_list.ipynb"
   ]
  },
  {
   "cell_type": "code",
   "execution_count": 25,
   "metadata": {},
   "outputs": [],
   "source": [
    "class RecursiveLinkedList(MyLinkedList): # using inheritance to enrich the linked list\n",
    "\n",
    "    def traverse(self):\n",
    "        current=self.head\n",
    "        def _traverse(current):\n",
    "            if current==None: return \n",
    "            print current.val\n",
    "            _traverse(current.next)\n",
    "        _traverse(current)\n",
    "        \n",
    "    def reverse(self):\n",
    "        current=self.head\n",
    "        prev=None\n",
    "        def _reverse(current, prev):\n",
    "            if current.next==None: \n",
    "                current.next=prev\n",
    "                self.head=current\n",
    "                return\n",
    "            fwd=current.next\n",
    "            current.next=prev\n",
    "            prev=current\n",
    "            current=fwd\n",
    "            _reverse(fwd, prev)\n",
    "        _reverse(current, prev)"
   ]
  },
  {
   "cell_type": "code",
   "execution_count": 26,
   "metadata": {},
   "outputs": [
    {
     "name": "stdout",
     "output_type": "stream",
     "text": [
      "1  5  2  4  0  11  15  12  14  size= 9\n"
     ]
    }
   ],
   "source": [
    "alist = RecursiveLinkedList()\n",
    "alist.append(1)\n",
    "alist.append(5)\n",
    "alist.append(2)\n",
    "alist.append(4)\n",
    "alist.append(0)\n",
    "alist.append(11)\n",
    "alist.append(15)\n",
    "alist.append(12)\n",
    "alist.append(14)\n",
    "alist.print_list()"
   ]
  },
  {
   "cell_type": "code",
   "execution_count": 27,
   "metadata": {},
   "outputs": [
    {
     "name": "stdout",
     "output_type": "stream",
     "text": [
      "1\n",
      "5\n",
      "2\n",
      "4\n",
      "0\n",
      "11\n",
      "15\n",
      "12\n",
      "14\n"
     ]
    }
   ],
   "source": [
    "alist.traverse()"
   ]
  },
  {
   "cell_type": "code",
   "execution_count": 28,
   "metadata": {},
   "outputs": [
    {
     "name": "stdout",
     "output_type": "stream",
     "text": [
      "14  12  15  11  0  4  2  5  1  size= 9\n"
     ]
    }
   ],
   "source": [
    "alist.reverse()\n",
    "alist.print_list()"
   ]
  }
 ],
 "metadata": {
  "kernelspec": {
   "display_name": "Python 2",
   "language": "python",
   "name": "python2"
  },
  "language_info": {
   "codemirror_mode": {
    "name": "ipython",
    "version": 2
   },
   "file_extension": ".py",
   "mimetype": "text/x-python",
   "name": "python",
   "nbconvert_exporter": "python",
   "pygments_lexer": "ipython2",
   "version": "2.7.15"
  }
 },
 "nbformat": 4,
 "nbformat_minor": 2
}
