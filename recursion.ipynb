{
 "cells": [
  {
   "cell_type": "markdown",
   "metadata": {},
   "source": [
    "# Recursion"
   ]
  },
  {
   "cell_type": "markdown",
   "metadata": {},
   "source": [
    "You may want to use the Python visualiser to understand recusrion better: http://www.pythontutor.com/"
   ]
  },
  {
   "cell_type": "markdown",
   "metadata": {},
   "source": [
    "#### Explain recursion to a ten year-old\n",
    "Imagine you are in a line of blind folded people. The person behind you asks you how many people are in front of you. Because you are blindfolded you have no idea. So you ask the person in front of you. This goes on and on and on. When it gets to the first person they reach out to tap the person in front of them on the shoulder and there is no one there! They realize they must be the first person in line. Soon enough the person in front of you tells you he is 24th in line, so you know you are 25th, and the person who asked you is 26th.\n",
    "\n",
    "`where_in_line(person):\n",
    "    if person.person_in_front == None: position = 1;\n",
    "    position = where_in_line(person.person_in_front) + 1;\n",
    "    return position;`"
   ]
  },
  {
   "cell_type": "markdown",
   "metadata": {},
   "source": [
    "### Recursive Patterns:\n",
    "\n",
    "#### Returning values:\n",
    "1. Build the result in the return statement. This is an extremely common pattern. We will use this pattern in the factorial, multiplication and Fibonacci problems next.\n",
    "2. Keep the result (or a value that is needed by next calls) in a function argument aka the accumulator, or memoery. We will use this pattern in the binary search next.  \n",
    "3. Accumulate the value in a \"global\" variable (probably the most difficult to grasp). Each stack frame keeps its own local variable and the values get accumulated. We will show this pattern in the increment problem next.\n",
    "\n",
    "#### Not returning values:\n",
    "In the above cases you need to return a value. However, not all recursions need to return a value. The decision is not recusrion specific, rather it is the same as in non-recursive functions. When you need to print a tree or do other side or helper ops (see for example Merge Sort), you do not need to return a value.\n",
    "\n",
    "#### Inner and helper functions:\n",
    "- When you need to traverse a data structure and then do something else that depends on the object in the initial call (e.g. reverse a linked list in place and do something else afterwards) you can define an inner function that’s recursive inside of a non-recursive function. The convention is to name this inner function the same thing as the outer function, with an underscore at the beginning. \n",
    "- The other side of the same coin, we can define a helper function to be called from within the recusrive function in order to black-box certain repititive ops part of the algorithm. For example in the in-place Quick Sort (see the Advanced Sorting notebook), the helper function manipulates the list and returns it to the recursive function which keeps it in its stack frame. You will note that because of this, the recursive function performs side ops and does not need to return.\n",
    "\n",
    "#### Head and tail recursion:\n",
    "- In tail recursion, the recursive call is the last thing executed in the function.\n",
    "- In a head call, the recursive call happens earlier and other ops are performed once it returns."
   ]
  },
  {
   "cell_type": "markdown",
   "metadata": {},
   "source": [
    "#### Calculate the factorial of a number recursively "
   ]
  },
  {
   "cell_type": "code",
   "execution_count": 32,
   "metadata": {},
   "outputs": [],
   "source": [
    "def factorial(x):\n",
    "    if x==0: return 1\n",
    "    return x*factorial(x-1)"
   ]
  },
  {
   "cell_type": "code",
   "execution_count": 33,
   "metadata": {},
   "outputs": [
    {
     "data": {
      "text/plain": [
       "24"
      ]
     },
     "execution_count": 33,
     "metadata": {},
     "output_type": "execute_result"
    }
   ],
   "source": [
    "factorial(4)"
   ]
  },
  {
   "cell_type": "markdown",
   "metadata": {},
   "source": [
    "The call stack:<br>\n",
    "`factorial(4):\n",
    "    factorial(3):\n",
    "        factorial(2):\n",
    "            factorial(1):\n",
    "                factorial(0):\n",
    "                    return 1\n",
    "                return 1*1\n",
    "            return 2*1\n",
    "        return 3*2*1\n",
    "    return 4*3*2*1`"
   ]
  },
  {
   "cell_type": "markdown",
   "metadata": {},
   "source": [
    "#### Recursive Multiply: Write a recursive function to multiply two positive integers without using the * or / operators.\n"
   ]
  },
  {
   "cell_type": "code",
   "execution_count": 34,
   "metadata": {},
   "outputs": [],
   "source": [
    "def mul(a,b):\n",
    "    if b==1: return a\n",
    "    return a+mul(a,b-1)"
   ]
  },
  {
   "cell_type": "code",
   "execution_count": 35,
   "metadata": {},
   "outputs": [
    {
     "data": {
      "text/plain": [
       "40"
      ]
     },
     "execution_count": 35,
     "metadata": {},
     "output_type": "execute_result"
    }
   ],
   "source": [
    "mul(5,8)"
   ]
  },
  {
   "cell_type": "markdown",
   "metadata": {},
   "source": [
    "#### Calculate the i-th Fibonacci number recursively\n",
    "\n",
    "The Fibonacci sequence: 0,1,1,2,3,5,8,13,21,34,... "
   ]
  },
  {
   "cell_type": "code",
   "execution_count": 36,
   "metadata": {},
   "outputs": [],
   "source": [
    "def fibonacci(x):\n",
    "    if x==0: return 0\n",
    "    if x==1: return 1\n",
    "    return fibonacci(x-1)+fibonacci(x-2)"
   ]
  },
  {
   "cell_type": "code",
   "execution_count": 37,
   "metadata": {},
   "outputs": [
    {
     "data": {
      "text/plain": [
       "21"
      ]
     },
     "execution_count": 37,
     "metadata": {},
     "output_type": "execute_result"
    }
   ],
   "source": [
    "fibonacci(8)"
   ]
  },
  {
   "cell_type": "markdown",
   "metadata": {},
   "source": [
    "#### Explain why the following two implementations return a different result"
   ]
  },
  {
   "cell_type": "code",
   "execution_count": 48,
   "metadata": {},
   "outputs": [],
   "source": [
    "def increment_i1(i):\n",
    "    if (i==5): return i\n",
    "    increment_i1(i+1)\n",
    "    return i"
   ]
  },
  {
   "cell_type": "code",
   "execution_count": 49,
   "metadata": {},
   "outputs": [],
   "source": [
    "def increment_i2(i):\n",
    "    if (i==5): return i\n",
    "    return increment_i2(i+1)"
   ]
  },
  {
   "cell_type": "code",
   "execution_count": 50,
   "metadata": {},
   "outputs": [
    {
     "data": {
      "text/plain": [
       "0"
      ]
     },
     "execution_count": 50,
     "metadata": {},
     "output_type": "execute_result"
    }
   ],
   "source": [
    "increment_i1(0)"
   ]
  },
  {
   "cell_type": "code",
   "execution_count": 51,
   "metadata": {},
   "outputs": [
    {
     "data": {
      "text/plain": [
       "5"
      ]
     },
     "execution_count": 51,
     "metadata": {},
     "output_type": "execute_result"
    }
   ],
   "source": [
    "increment_i2(0)"
   ]
  },
  {
   "cell_type": "markdown",
   "metadata": {},
   "source": [
    "In the call stack of the first version, each call has its own copy of variable i. Here is the call stack:\n",
    "\n",
    "`increment_i1: i=5\n",
    "increment_i1: i=4\n",
    "increment_i1: i=3\n",
    "increment_i1: i=2\n",
    "increment_i1: i=1\n",
    "increment_i1: i=0`\n",
    "\n",
    "When the top call is able to return a value, it returns 5 to the call below it, which returns 4 to the call below it and so on. Each call having its own copy, the root call returns its copy, which is zero.\n",
    "\n",
    "In the call stack of the second version, each call is passing the value of the call above it. 5 being the value of the last call, 5 is passed down the stack and returned."
   ]
  },
  {
   "cell_type": "markdown",
   "metadata": {},
   "source": [
    "Now, observe how the behaviour changes according to pattern 3 mentioned above. We control the recursion with `i`, and we accumulate on `c`. `c` is a local variable which is also initialised to 1, but we are able to accumulate by adding to it what the previous frame returns."
   ]
  },
  {
   "cell_type": "code",
   "execution_count": 75,
   "metadata": {},
   "outputs": [],
   "source": [
    "def increment_i3(i):\n",
    "    if (i==5): return 0\n",
    "    c=1\n",
    "    c+=increment_i3(i+1)\n",
    "    return c"
   ]
  },
  {
   "cell_type": "code",
   "execution_count": 76,
   "metadata": {},
   "outputs": [
    {
     "data": {
      "text/plain": [
       "5"
      ]
     },
     "execution_count": 76,
     "metadata": {},
     "output_type": "execute_result"
    }
   ],
   "source": [
    "increment_i3(0)"
   ]
  },
  {
   "cell_type": "markdown",
   "metadata": {},
   "source": [
    "#### Implement the binary search algorithm to locate a string's index in a list of sorted strings in O(logN)\n"
   ]
  },
  {
   "cell_type": "code",
   "execution_count": 15,
   "metadata": {},
   "outputs": [],
   "source": [
    "def binary_search(alist, key, mem): #use mem to remember the index of the split at every step of the recusrion\n",
    "    size=len(alist)\n",
    "    indexes=[i for i in range (0,size)]\n",
    "    split=size/2   \n",
    "    if alist[split]>key and size!=1: \n",
    "        print alist[:split]\n",
    "        return binary_search(alist[:split], key, mem)\n",
    "    if alist[split]<key and size!=1: \n",
    "        mem=mem+split #you use the upper sub list, add the index of the split \n",
    "        print alist[split:]\n",
    "        return binary_search(alist[split:], key, mem)\n",
    "    if alist[split]==key: return mem+split #again you need to add the index of the split\n",
    "    if alist[split]!=key: \n",
    "        print \"Key not present. You can insert at position:\" , mem+split+1 #binary insertion point\n",
    "        return False"
   ]
  },
  {
   "cell_type": "code",
   "execution_count": 18,
   "metadata": {},
   "outputs": [
    {
     "name": "stdout",
     "output_type": "stream",
     "text": [
      "['a', 'b', 'd']\n",
      "['b', 'd']\n",
      "['b']\n",
      "Key not present. You can insert at position: 2\n"
     ]
    },
    {
     "data": {
      "text/plain": [
       "False"
      ]
     },
     "execution_count": 18,
     "metadata": {},
     "output_type": "execute_result"
    }
   ],
   "source": [
    "alist = ['a','b','d','e','f','g']\n",
    "binary_search(alist, 'c', 0)"
   ]
  },
  {
   "cell_type": "markdown",
   "metadata": {},
   "source": [
    "#### Triple Step: A child is running up a staircase with n steps and can hop either 1 step, 2 steps, or 3 steps at a time. Implement a method to count how many possible ways the child can run up the stairs."
   ]
  },
  {
   "cell_type": "code",
   "execution_count": 38,
   "metadata": {},
   "outputs": [],
   "source": [
    "def ways(n):\n",
    "    if n==1: return 1\n",
    "    if n==2: return 2\n",
    "    if n==3: return 3\n",
    "    return ways(n-1)+ways(n-2)+ways(n-3)"
   ]
  },
  {
   "cell_type": "code",
   "execution_count": 39,
   "metadata": {},
   "outputs": [
    {
     "data": {
      "text/plain": [
       "6"
      ]
     },
     "execution_count": 39,
     "metadata": {},
     "output_type": "execute_result"
    }
   ],
   "source": [
    "ways(4)"
   ]
  },
  {
   "cell_type": "markdown",
   "metadata": {},
   "source": [
    "#### Robot in a Grid: Imagine a robot sitting on the upper left corner of grid with r rows and c columns. The robot can only move in two directions, right and down, but certain cells are \"off limits\" such that the robot cannot step on them. Design an algorithm to find a path for the robot from the top left to the bottom right."
   ]
  },
  {
   "cell_type": "code",
   "execution_count": 24,
   "metadata": {},
   "outputs": [],
   "source": [
    "import random\n",
    "def robot(a, i, j):\n",
    "    rows = len(a)\n",
    "    cols = len(a[0])\n",
    "    position = \"[\" + str(i) + \",\" + str(j) + \"]\"\n",
    "    \n",
    "    #if the next move is within boundaries in either dimension:\n",
    "    if i+1<rows and j+1<cols:\n",
    "        \n",
    "        #if both moves are possible and of equal cost, randomise next step:\n",
    "        if a[i+1][j]==a[i][j+1] and a[i+1][j]!=9 and a[i][j+1]!=9: \n",
    "            coin = random.choice([True, False])\n",
    "            if (coin==True): return position + str(robot(a,i+1,j))\n",
    "            if (coin==False): return position + str(robot(a,i,j+1))\n",
    "        \n",
    "        #if both positions are possible and one is better than the other (additional feature):\n",
    "        if a[i+1][j]<a[i][j+1]: return position + str(robot(a,i+1,j))\n",
    "        if a[i][j+1]<a[i+1][j]: return position + str(robot(a,i,j+1))\n",
    "    \n",
    "    #else if only one of the two positions is within boudaries and feasible:\n",
    "    if i+1<rows and a[i+1][j]!=9: return position + str(robot(a,i+1,j))\n",
    "    if j+1<cols and a[i][j+1]!=9: return position + str(robot(a,i,j+1))\n",
    "    \n",
    "    #happy base cases:\n",
    "    if i<rows and a[i][j]==0: return position + \" success :)\"\n",
    "    if j<cols and a[i][j]==0: return position + \" success :)\"\n",
    "    \n",
    "    #else if the robot is stuck, mark the position as impossible if it was allowed by the terrain and retry\n",
    "    if a[i][j]!=9: \n",
    "        a[i][j]=9\n",
    "        return position + \" restarting \" + robot(a,0,0)\n",
    "    \n",
    "    #unhappy base case\n",
    "    return position + \" no route :O \""
   ]
  },
  {
   "cell_type": "code",
   "execution_count": 25,
   "metadata": {},
   "outputs": [],
   "source": [
    "terrain=[[1,1,9,1,1,1,1],\n",
    "         [1,1,9,1,1,1,1],\n",
    "         [1,9,9,1,1,1,1],\n",
    "         [1,1,1,1,1,1,0]]"
   ]
  },
  {
   "cell_type": "code",
   "execution_count": 26,
   "metadata": {},
   "outputs": [
    {
     "data": {
      "text/plain": [
       "'[0,0][1,0][2,0][3,0][3,1][3,2][3,3][3,4][3,5][3,6] success :)'"
      ]
     },
     "execution_count": 26,
     "metadata": {},
     "output_type": "execute_result"
    }
   ],
   "source": [
    "robot(terrain, 0, 0)"
   ]
  },
  {
   "cell_type": "code",
   "execution_count": 27,
   "metadata": {},
   "outputs": [],
   "source": [
    "terrain=[[1,1,1,9,1,1,1],\n",
    "         [1,1,1,9,1,1,1],\n",
    "         [1,1,1,9,1,1,1],\n",
    "         [1,1,1,9,1,1,0]]"
   ]
  },
  {
   "cell_type": "code",
   "execution_count": 28,
   "metadata": {},
   "outputs": [
    {
     "data": {
      "text/plain": [
       "'[0,0][0,1][0,2][1,2][2,2][3,2] restarting [0,0][0,1][1,1][1,2][2,2] restarting [0,0][1,0][1,1][1,2] restarting [0,0][0,1][1,1][2,1][3,1] restarting [0,0][1,0][2,0][2,1] restarting [0,0][0,1][1,1] restarting [0,0][1,0][2,0][3,0] restarting [0,0][0,1][0,2] restarting [0,0][0,1] restarting [0,0][1,0][2,0] restarting [0,0][1,0] restarting [0,0] restarting [0,0] no route :O '"
      ]
     },
     "execution_count": 28,
     "metadata": {},
     "output_type": "execute_result"
    }
   ],
   "source": [
    "robot(terrain, 0, 0)"
   ]
  },
  {
   "cell_type": "markdown",
   "metadata": {},
   "source": [
    "#### Given a string, print all permutations of the string. You can assume the string does not have any duplicate characters"
   ]
  },
  {
   "cell_type": "code",
   "execution_count": 29,
   "metadata": {},
   "outputs": [
    {
     "ename": "SyntaxError",
     "evalue": "non-keyword arg after keyword arg (<ipython-input-29-5249ec39e48e>, line 5)",
     "output_type": "error",
     "traceback": [
      "\u001b[0;36m  File \u001b[0;32m\"<ipython-input-29-5249ec39e48e>\"\u001b[0;36m, line \u001b[0;32m5\u001b[0m\n\u001b[0;31m    return perm(alist=alist[1:],alist[0])\u001b[0m\n\u001b[0;31mSyntaxError\u001b[0m\u001b[0;31m:\u001b[0m non-keyword arg after keyword arg\n"
     ]
    }
   ],
   "source": [
    "def perm(alist,b):\n",
    "    s=len(alist)\n",
    "    if s==1: return alist\n",
    "    \n",
    "    return perm(alist=alist[1:],alist[0])\n",
    "perm(\"a\")"
   ]
  },
  {
   "cell_type": "markdown",
   "metadata": {},
   "source": [
    "#### Traverse a linked list recursively"
   ]
  },
  {
   "cell_type": "code",
   "execution_count": 80,
   "metadata": {},
   "outputs": [
    {
     "name": "stdout",
     "output_type": "stream",
     "text": [
      "0  1  2  3  4  5  size= 6\n",
      "0  10  1  2  3  4  5  size= 7\n",
      "99  0  10  1  2  3  4  5  size= 8\n",
      "99  0  1  2  3  4  5  size= 7\n",
      "10\n",
      "99  60  0  1  2  3  4  5  size= 8\n",
      "60  0  1  2  3  4  5  size= 7\n",
      "60  0  1  2  3  4  size= 6\n",
      "1\n",
      "2\n"
     ]
    }
   ],
   "source": [
    "%run linked_list.ipynb"
   ]
  },
  {
   "cell_type": "code",
   "execution_count": 158,
   "metadata": {},
   "outputs": [],
   "source": [
    "class RecursiveLinkedList(MyLinkedList):\n",
    "\n",
    "    def traverse(self):\n",
    "        current=self.head\n",
    "        print current.val\n",
    "        def _traverse(current):\n",
    "            if current==None: return \n",
    "            print current.val\n",
    "            _traverse(current.next)\n",
    "        _traverse(current.next)\n",
    "        \n",
    "    def reverse(self):\n",
    "        current=self.head\n",
    "        def _reverse(current):\n",
    "            prev=None\n",
    "            if current.next==None: return\n",
    "            fwd=current.next\n",
    "            current.next=prev\n",
    "            prev=current\n",
    "            current=fwd\n",
    "            _reverse(current)\n",
    "        _reverse(current.next)\n",
    "        self.head=current"
   ]
  },
  {
   "cell_type": "code",
   "execution_count": 159,
   "metadata": {},
   "outputs": [
    {
     "name": "stdout",
     "output_type": "stream",
     "text": [
      "1  5  2  4  0  11  15  12  14  size= 9\n"
     ]
    }
   ],
   "source": [
    "alist = RecursiveLinkedList()\n",
    "alist.append(1)\n",
    "alist.append(5)\n",
    "alist.append(2)\n",
    "alist.append(4)\n",
    "alist.append(0)\n",
    "alist.append(11)\n",
    "alist.append(15)\n",
    "alist.append(12)\n",
    "alist.append(14)\n",
    "alist.print_list()"
   ]
  },
  {
   "cell_type": "code",
   "execution_count": 160,
   "metadata": {},
   "outputs": [
    {
     "name": "stdout",
     "output_type": "stream",
     "text": [
      "1\n",
      "5\n",
      "2\n",
      "4\n",
      "0\n",
      "11\n",
      "15\n",
      "12\n",
      "14\n"
     ]
    }
   ],
   "source": [
    "alist.traverse()"
   ]
  },
  {
   "cell_type": "code",
   "execution_count": 161,
   "metadata": {},
   "outputs": [
    {
     "name": "stdout",
     "output_type": "stream",
     "text": [
      "1  5  size= 9\n"
     ]
    }
   ],
   "source": [
    "alist.reverse()\n",
    "alist.print_list()"
   ]
  },
  {
   "cell_type": "markdown",
   "metadata": {},
   "source": [
    "#### Reverse the linked list in place recursively\n",
    "The same problem is solved in the linked lists practice notebook iteratively"
   ]
  },
  {
   "cell_type": "code",
   "execution_count": 125,
   "metadata": {},
   "outputs": [],
   "source": [
    "class RecursiveLinkedList(MyLinkedList):\n",
    "\n",
    "    "
   ]
  },
  {
   "cell_type": "code",
   "execution_count": 126,
   "metadata": {},
   "outputs": [
    {
     "ename": "AttributeError",
     "evalue": "RecursiveLinkedList instance has no attribute 'reverse'",
     "output_type": "error",
     "traceback": [
      "\u001b[0;31m---------------------------------------------------------------------------\u001b[0m",
      "\u001b[0;31mAttributeError\u001b[0m                            Traceback (most recent call last)",
      "\u001b[0;32m<ipython-input-126-7a9afd47d0ff>\u001b[0m in \u001b[0;36m<module>\u001b[0;34m()\u001b[0m\n\u001b[0;32m----> 1\u001b[0;31m \u001b[0malist\u001b[0m\u001b[0;34m.\u001b[0m\u001b[0mreverse\u001b[0m\u001b[0;34m(\u001b[0m\u001b[0;34m)\u001b[0m\u001b[0;34m\u001b[0m\u001b[0m\n\u001b[0m",
      "\u001b[0;31mAttributeError\u001b[0m: RecursiveLinkedList instance has no attribute 'reverse'"
     ]
    }
   ],
   "source": []
  },
  {
   "cell_type": "code",
   "execution_count": null,
   "metadata": {},
   "outputs": [],
   "source": []
  }
 ],
 "metadata": {
  "kernelspec": {
   "display_name": "Python 2",
   "language": "python",
   "name": "python2"
  },
  "language_info": {
   "codemirror_mode": {
    "name": "ipython",
    "version": 2
   },
   "file_extension": ".py",
   "mimetype": "text/x-python",
   "name": "python",
   "nbconvert_exporter": "python",
   "pygments_lexer": "ipython2",
   "version": "2.7.15"
  }
 },
 "nbformat": 4,
 "nbformat_minor": 2
}
