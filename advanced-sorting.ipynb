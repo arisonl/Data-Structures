{
 "cells": [
  {
   "cell_type": "markdown",
   "metadata": {},
   "source": [
    "# Advanced Sorting\n",
    "### Merge Sort\n",
    "Merge sort is **`O(NlogN)`** in all cases. `LogN` to split the problem to gradually smaller problems and `n` to go through all elements in the split problems.<br>\n",
    "<img src=\"Graphics/merge.png\" width=\"35%\" align=\"left\">"
   ]
  },
  {
   "cell_type": "code",
   "execution_count": 206,
   "metadata": {},
   "outputs": [],
   "source": [
    "def merge_sort(alist):\n",
    "    size = len(alist)\n",
    "    if size==1: return alist\n",
    "    left=[]\n",
    "    right=[]\n",
    "    split = len(alist)/2\n",
    "    left=alist[:split]\n",
    "    right=alist[split:]\n",
    "    print \"Splitting\", alist, \"to\", left, right\n",
    "    \n",
    "    left=merge_sort(left)     # Note: need to assign the returned list to left and right,\n",
    "    right=merge_sort(right)   # the list is passed by value so if you don't assign, changes are lost\n",
    "\n",
    "    return merge(left, right)"
   ]
  },
  {
   "cell_type": "code",
   "execution_count": 207,
   "metadata": {},
   "outputs": [],
   "source": [
    "def merge(alist, blist):\n",
    "    merged=[]\n",
    "    i=j=0\n",
    "    print \"Merging:\" , alist, blist\n",
    "    while i<len(alist) and j<len(blist):\n",
    "        if alist[i]<blist[j]:\n",
    "            merged.append(alist[i])\n",
    "            i+=1\n",
    "        else:\n",
    "            merged.append(blist[j])\n",
    "            j+=1\n",
    "    \n",
    "    while i<len(alist):\n",
    "            merged.append(alist[i])\n",
    "            i+=1\n",
    "            \n",
    "    while j<len(blist):\n",
    "            merged.append(blist[j])\n",
    "            j+=1    \n",
    "            \n",
    "    print \"Merged:\", merged\n",
    "    return merged"
   ]
  },
  {
   "cell_type": "code",
   "execution_count": 209,
   "metadata": {},
   "outputs": [
    {
     "name": "stdout",
     "output_type": "stream",
     "text": [
      "Merging: [2, 4, 5, 7] [1, 3, 8, 9, 12]\n",
      "Merged: [1, 2, 3, 4, 5, 7, 8, 9, 12]\n"
     ]
    },
    {
     "data": {
      "text/plain": [
       "[1, 2, 3, 4, 5, 7, 8, 9, 12]"
      ]
     },
     "execution_count": 209,
     "metadata": {},
     "output_type": "execute_result"
    }
   ],
   "source": [
    "# demo the merging function\n",
    "alist=[2,4,5,7]\n",
    "blist=[1,3,8,9, 12]\n",
    "merge(alist, blist)"
   ]
  },
  {
   "cell_type": "code",
   "execution_count": 210,
   "metadata": {},
   "outputs": [
    {
     "name": "stdout",
     "output_type": "stream",
     "text": [
      "Splitting [10, 7, 8, 3, 8, 9, 5, 2, 1] to [10, 7, 8, 3] [8, 9, 5, 2, 1]\n",
      "Splitting [10, 7, 8, 3] to [10, 7] [8, 3]\n",
      "Splitting [10, 7] to [10] [7]\n",
      "Merging: [10] [7]\n",
      "Merged: [7, 10]\n",
      "Splitting [8, 3] to [8] [3]\n",
      "Merging: [8] [3]\n",
      "Merged: [3, 8]\n",
      "Merging: [7, 10] [3, 8]\n",
      "Merged: [3, 7, 8, 10]\n",
      "Splitting [8, 9, 5, 2, 1] to [8, 9] [5, 2, 1]\n",
      "Splitting [8, 9] to [8] [9]\n",
      "Merging: [8] [9]\n",
      "Merged: [8, 9]\n",
      "Splitting [5, 2, 1] to [5] [2, 1]\n",
      "Splitting [2, 1] to [2] [1]\n",
      "Merging: [2] [1]\n",
      "Merged: [1, 2]\n",
      "Merging: [5] [1, 2]\n",
      "Merged: [1, 2, 5]\n",
      "Merging: [8, 9] [1, 2, 5]\n",
      "Merged: [1, 2, 5, 8, 9]\n",
      "Merging: [3, 7, 8, 10] [1, 2, 5, 8, 9]\n",
      "Merged: [1, 2, 3, 5, 7, 8, 8, 9, 10]\n"
     ]
    },
    {
     "data": {
      "text/plain": [
       "[1, 2, 3, 5, 7, 8, 8, 9, 10]"
      ]
     },
     "execution_count": 210,
     "metadata": {},
     "output_type": "execute_result"
    }
   ],
   "source": [
    "# demo merge sort\n",
    "alist=[10,7,8,3,8,9,5,2,1]\n",
    "merge_sort(alist)"
   ]
  }
 ],
 "metadata": {
  "kernelspec": {
   "display_name": "Python 2",
   "language": "python",
   "name": "python2"
  },
  "language_info": {
   "codemirror_mode": {
    "name": "ipython",
    "version": 2
   },
   "file_extension": ".py",
   "mimetype": "text/x-python",
   "name": "python",
   "nbconvert_exporter": "python",
   "pygments_lexer": "ipython2",
   "version": "2.7.15"
  }
 },
 "nbformat": 4,
 "nbformat_minor": 2
}
