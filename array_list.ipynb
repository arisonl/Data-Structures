{
 "cells": [
  {
   "cell_type": "markdown",
   "metadata": {},
   "source": [
    "# Array Lists\n",
    "\n",
    "The array list implements the generic list interface:\n",
    "\n",
    "`insert(value, index)`<br>\n",
    "`delete(index)`<br>\n",
    "`access(index)`<br>\n",
    "`search(index)`<br>\n",
    "`append(value)`<br>\n",
    "\n",
    "with the use of an underlying array. Arrays are structures of fixed size. The closest to this that Python provides is the `numpy.empty(n, dtype=object)` which creates an array of length $n$ that can store objects and cannot be resized or appended to.\n",
    "\n",
    "All the above functions are **O(n)**. For insert and delete this is because they need to copy elements accordingly.\n",
    "In contrast access by index is fast **O(1)**.\n",
    "\n",
    "The helper functions:\n",
    "\n",
    "`ensure_capacity()`<br>\n",
    "`print_list()`<br>\n",
    "\n",
    "are also provided. `ensure_capacity()` checks if there is enough space. If needed it creates a larger array to copy the current one in order to allow additional capacity."
   ]
  },
  {
   "cell_type": "code",
   "execution_count": 7,
   "metadata": {},
   "outputs": [],
   "source": [
    "import numpy as np"
   ]
  },
  {
   "cell_type": "code",
   "execution_count": 3,
   "metadata": {},
   "outputs": [],
   "source": [
    "class MyArrayList:\n",
    "    def __init__(self, capacity):\n",
    "        self.capacity = capacity\n",
    "        self.size = 0\n",
    "        self.a = np.empty(capacity, dtype=object) \n",
    "        \n",
    "    def insert(self,val,index):\n",
    "        assert (index>=0 and index<=self.size), \"index out of bounds, provide an index between 0 and \" + str(self.size) \n",
    "        self.ensure_capacity()\n",
    "        for i in range (self.size-1, index-1, -1): #for i=size-1 to i<index-1, i--\n",
    "            #print str(i) + \" goes to \" + str(i+1) \n",
    "            self.a[i+1]=self.a[i]\n",
    "        self.a[index]=val\n",
    "        self.size = self.size+1\n",
    "    \n",
    "    def delete(self,index):\n",
    "        assert (index>=0 and index<=self.size), \"index out of bounds, provide an index between 0 and \" + str(self.size) \n",
    "        for i in range (index, self.size-1, +1): #for i=index to i<size-1, i++\n",
    "            self.a[i]=self.a[i+1]\n",
    "        self.a[self.size-1]=None\n",
    "        self.size = self.size-1\n",
    "    \n",
    "    def access(self, index):\n",
    "        assert (index>=0 and index<=self.size), \"index out of bounds, provide an index between 0 and \" + str(self.size)\n",
    "        return self.a[index]\n",
    "    \n",
    "    def search(self,value):\n",
    "        for i in range (0, self.size, +1):\n",
    "            if (self.a[i]==value): return i\n",
    "        return False\n",
    "    \n",
    "    def append(self, value):\n",
    "        self.ensure_capacity()\n",
    "        self.insert(value, self.size)\n",
    "    \n",
    "    def print_list(self):\n",
    "        for i in range(self.size):\n",
    "            print str (self.a[i]),\n",
    "        print \"size= \" + str(self.size)\n",
    "        \n",
    "    def ensure_capacity(self):\n",
    "        if (self.size==self.capacity): \n",
    "            c = self.capacity+self.capacity/2\n",
    "            b = np.empty(c, dtype=object)\n",
    "            for i in range (self.capacity):\n",
    "                b[i]=self.a[i]\n",
    "            self.a=b\n",
    "            self.capacity=c\n",
    "            print \"increased capacity: \" + str(self.capacity) + \", size:\" + str(self.size)"
   ]
  },
  {
   "cell_type": "markdown",
   "metadata": {},
   "source": [
    "`0 :1 :2 :3 :4 :5 :6_` <- array positions<br>\n",
    "`0 :10:20:30:40:##:##` <- array values<br> \n",
    "`0 :10:20:20:30:40:##` <- insert 50 in position 2: go to position `size-1` (4) and start copying right until position `index`<br>\n",
    "`0 :10:50:20:30:40:##`<br>\n",
    "\n",
    "Note that the implementation of \"in range\" stops one step before the end number, for example:\n",
    "-  in range (5) returns [0,1,2,3,4] (stops at 4, one step before 5)\n",
    "-  in range (5, 0, -1) returns [5,4,3,2,1] (stops at 1, one reverse step before 0)\n",
    "\n",
    "For this reason the stoping consition at `index` needs to become at `index-1`"
   ]
  },
  {
   "cell_type": "code",
   "execution_count": null,
   "metadata": {},
   "outputs": [],
   "source": []
  }
 ],
 "metadata": {
  "kernelspec": {
   "display_name": "Python 2",
   "language": "python",
   "name": "python2"
  },
  "language_info": {
   "codemirror_mode": {
    "name": "ipython",
    "version": 2
   },
   "file_extension": ".py",
   "mimetype": "text/x-python",
   "name": "python",
   "nbconvert_exporter": "python",
   "pygments_lexer": "ipython2",
   "version": "2.7.15"
  }
 },
 "nbformat": 4,
 "nbformat_minor": 2
}
